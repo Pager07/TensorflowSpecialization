{
  "nbformat": 4,
  "nbformat_minor": 0,
  "metadata": {
    "colab": {
      "name": "Callbacks.ipynb",
      "provenance": [],
      "authorship_tag": "ABX9TyOo1m482ZoKCfdR2eq2N17F",
      "include_colab_link": true
    },
    "kernelspec": {
      "name": "python3",
      "display_name": "Python 3"
    }
  },
  "cells": [
    {
      "cell_type": "markdown",
      "metadata": {
        "id": "view-in-github",
        "colab_type": "text"
      },
      "source": [
        "<a href=\"https://colab.research.google.com/github/Pager07/TensorflowSpecialization/blob/master/Callbacks.ipynb\" target=\"_parent\"><img src=\"https://colab.research.google.com/assets/colab-badge.svg\" alt=\"Open In Colab\"/></a>"
      ]
    },
    {
      "cell_type": "markdown",
      "metadata": {
        "id": "tJoIEmYxmrlK",
        "colab_type": "text"
      },
      "source": [
        "#Imports"
      ]
    },
    {
      "cell_type": "code",
      "metadata": {
        "id": "-sk7WxfdmtZ3",
        "colab_type": "code",
        "colab": {}
      },
      "source": [
        "import tensorflow as tf "
      ],
      "execution_count": 1,
      "outputs": []
    },
    {
      "cell_type": "markdown",
      "metadata": {
        "id": "ShXPzjU1m4e0",
        "colab_type": "text"
      },
      "source": [
        "#Defining Callback\n",
        "\n",
        "Is a function that runs after every epoch.\n",
        "\n",
        "Log object contains:\n",
        "    loss key as default\n",
        "If you want more metrics in logs then, pass it in the metrics list\n",
        "```\n",
        "model.compile(optimizer=tf.optimizers.Adam(), \n",
        "              loss='sparse_categorical_crossentropy'\n",
        "              metrics=['accuracy'])\n",
        "```\n"
      ]
    },
    {
      "cell_type": "code",
      "metadata": {
        "id": "7N1m58Dcm8AW",
        "colab_type": "code",
        "colab": {}
      },
      "source": [
        "class myCallback(tf.keras.callbacks.Callback):\n",
        "  def on_epoch_end(self,epoch,logs={}):\n",
        "    if(logs.get('accuracy')>0.80):\n",
        "      print(\"\\nReached 80% Accuracy. Terminating Training!\")\n",
        "      self.model.stop_training = True \n"
      ],
      "execution_count": 17,
      "outputs": []
    },
    {
      "cell_type": "code",
      "metadata": {
        "id": "C762L2kApg_o",
        "colab_type": "code",
        "colab": {}
      },
      "source": [
        "callback = myCallback()"
      ],
      "execution_count": 18,
      "outputs": []
    },
    {
      "cell_type": "markdown",
      "metadata": {
        "id": "OGOw_yawn-Jc",
        "colab_type": "text"
      },
      "source": [
        "#Creating Model and loading datset\n"
      ]
    },
    {
      "cell_type": "code",
      "metadata": {
        "id": "BDCx90MKpEdX",
        "colab_type": "code",
        "colab": {
          "base_uri": "https://localhost:8080/",
          "height": 51
        },
        "outputId": "c5cc8e04-ffa7-49eb-8344-68ad525e312f"
      },
      "source": [
        "mnist = tf.keras.datasets.mnist\n",
        "(x_train , y_train) , (x_test, y_test) = mnist.load_data()\n",
        "x_train , x_test = x_train/255. , x_test/255."
      ],
      "execution_count": 6,
      "outputs": [
        {
          "output_type": "stream",
          "text": [
            "Downloading data from https://storage.googleapis.com/tensorflow/tf-keras-datasets/mnist.npz\n",
            "11493376/11490434 [==============================] - 0s 0us/step\n"
          ],
          "name": "stdout"
        }
      ]
    },
    {
      "cell_type": "code",
      "metadata": {
        "id": "MY5g7zAsn9tV",
        "colab_type": "code",
        "colab": {}
      },
      "source": [
        "model = tf.keras.Sequential([tf.keras.layers.Flatten(),\n",
        "                             tf.keras.layers.Dense(units=512, activation=tf.nn.relu),\n",
        "                             tf.keras.layers.Dense(units=10,activation=tf.nn.softmax)])\n",
        "model.compile(optimizer=tf.optimizers.Adam(), \n",
        "              loss='sparse_categorical_crossentropy'\n",
        "              metrics=['accuracy'])\n"
      ],
      "execution_count": 15,
      "outputs": []
    },
    {
      "cell_type": "code",
      "metadata": {
        "id": "2p9D9EQwo3aG",
        "colab_type": "code",
        "colab": {
          "base_uri": "https://localhost:8080/",
          "height": 102
        },
        "outputId": "30dc8638-a5ef-4af2-ff2a-38fcde16c164"
      },
      "source": [
        "model.fit(x_train,y_train, epochs=50 , callbacks=[callback])"
      ],
      "execution_count": 19,
      "outputs": [
        {
          "output_type": "stream",
          "text": [
            "Epoch 1/50\n",
            "1867/1875 [============================>.] - ETA: 0s - loss: 0.0809\n",
            "Reached 80% Accuracy. Terminating Training!\n",
            "1875/1875 [==============================] - 7s 4ms/step - loss: 0.0807\n"
          ],
          "name": "stdout"
        },
        {
          "output_type": "execute_result",
          "data": {
            "text/plain": [
              "<tensorflow.python.keras.callbacks.History at 0x7f4ed27a84e0>"
            ]
          },
          "metadata": {
            "tags": []
          },
          "execution_count": 19
        }
      ]
    },
    {
      "cell_type": "code",
      "metadata": {
        "id": "Qep_tlUbpn5f",
        "colab_type": "code",
        "colab": {}
      },
      "source": [
        ""
      ],
      "execution_count": null,
      "outputs": []
    }
  ]
}