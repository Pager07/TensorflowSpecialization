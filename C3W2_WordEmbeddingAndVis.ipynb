{
  "nbformat": 4,
  "nbformat_minor": 0,
  "metadata": {
    "colab": {
      "name": "C3W2-WordEmbeddingAndVis.ipynb",
      "provenance": [],
      "collapsed_sections": [],
      "authorship_tag": "ABX9TyPImYRP1wrYpCVZhWUwZQ13",
      "include_colab_link": true
    },
    "kernelspec": {
      "name": "python3",
      "display_name": "Python 3"
    },
    "accelerator": "GPU",
    "widgets": {
      "application/vnd.jupyter.widget-state+json": {
        "8bde644143a346579205fa1c2b5502b3": {
          "model_module": "@jupyter-widgets/controls",
          "model_name": "HBoxModel",
          "state": {
            "_view_name": "HBoxView",
            "_dom_classes": [],
            "_model_name": "HBoxModel",
            "_view_module": "@jupyter-widgets/controls",
            "_model_module_version": "1.5.0",
            "_view_count": null,
            "_view_module_version": "1.5.0",
            "box_style": "",
            "layout": "IPY_MODEL_a3d43f421b0345de98069c30badecb48",
            "_model_module": "@jupyter-widgets/controls",
            "children": [
              "IPY_MODEL_3dbb0dd174da4ea4bf4a714dfe27fae2",
              "IPY_MODEL_eaf2bf77d367412db3233360b0f6c8ee"
            ]
          }
        },
        "a3d43f421b0345de98069c30badecb48": {
          "model_module": "@jupyter-widgets/base",
          "model_name": "LayoutModel",
          "state": {
            "_view_name": "LayoutView",
            "grid_template_rows": null,
            "right": null,
            "justify_content": null,
            "_view_module": "@jupyter-widgets/base",
            "overflow": null,
            "_model_module_version": "1.2.0",
            "_view_count": null,
            "flex_flow": null,
            "width": null,
            "min_width": null,
            "border": null,
            "align_items": null,
            "bottom": null,
            "_model_module": "@jupyter-widgets/base",
            "top": null,
            "grid_column": null,
            "overflow_y": null,
            "overflow_x": null,
            "grid_auto_flow": null,
            "grid_area": null,
            "grid_template_columns": null,
            "flex": null,
            "_model_name": "LayoutModel",
            "justify_items": null,
            "grid_row": null,
            "max_height": null,
            "align_content": null,
            "visibility": null,
            "align_self": null,
            "height": null,
            "min_height": null,
            "padding": null,
            "grid_auto_rows": null,
            "grid_gap": null,
            "max_width": null,
            "order": null,
            "_view_module_version": "1.2.0",
            "grid_template_areas": null,
            "object_position": null,
            "object_fit": null,
            "grid_auto_columns": null,
            "margin": null,
            "display": null,
            "left": null
          }
        },
        "3dbb0dd174da4ea4bf4a714dfe27fae2": {
          "model_module": "@jupyter-widgets/controls",
          "model_name": "FloatProgressModel",
          "state": {
            "_view_name": "ProgressView",
            "style": "IPY_MODEL_f9b57f2f5d96476eb1d3cf1e31a2c25a",
            "_dom_classes": [],
            "description": "Dl Completed...: 100%",
            "_model_name": "FloatProgressModel",
            "bar_style": "success",
            "max": 1,
            "_view_module": "@jupyter-widgets/controls",
            "_model_module_version": "1.5.0",
            "value": 1,
            "_view_count": null,
            "_view_module_version": "1.5.0",
            "orientation": "horizontal",
            "min": 0,
            "description_tooltip": null,
            "_model_module": "@jupyter-widgets/controls",
            "layout": "IPY_MODEL_64b31f1f6c6144f0bd4c1dfe1656f3e9"
          }
        },
        "eaf2bf77d367412db3233360b0f6c8ee": {
          "model_module": "@jupyter-widgets/controls",
          "model_name": "HTMLModel",
          "state": {
            "_view_name": "HTMLView",
            "style": "IPY_MODEL_97faf92f07264433a71b1c12b3e4dd23",
            "_dom_classes": [],
            "description": "",
            "_model_name": "HTMLModel",
            "placeholder": "​",
            "_view_module": "@jupyter-widgets/controls",
            "_model_module_version": "1.5.0",
            "value": " 1/1 [00:10&lt;00:00, 10.05s/ url]",
            "_view_count": null,
            "_view_module_version": "1.5.0",
            "description_tooltip": null,
            "_model_module": "@jupyter-widgets/controls",
            "layout": "IPY_MODEL_2085b8603fda4e76a9fdcaa6b8b96a22"
          }
        },
        "f9b57f2f5d96476eb1d3cf1e31a2c25a": {
          "model_module": "@jupyter-widgets/controls",
          "model_name": "ProgressStyleModel",
          "state": {
            "_view_name": "StyleView",
            "_model_name": "ProgressStyleModel",
            "description_width": "initial",
            "_view_module": "@jupyter-widgets/base",
            "_model_module_version": "1.5.0",
            "_view_count": null,
            "_view_module_version": "1.2.0",
            "bar_color": null,
            "_model_module": "@jupyter-widgets/controls"
          }
        },
        "64b31f1f6c6144f0bd4c1dfe1656f3e9": {
          "model_module": "@jupyter-widgets/base",
          "model_name": "LayoutModel",
          "state": {
            "_view_name": "LayoutView",
            "grid_template_rows": null,
            "right": null,
            "justify_content": null,
            "_view_module": "@jupyter-widgets/base",
            "overflow": null,
            "_model_module_version": "1.2.0",
            "_view_count": null,
            "flex_flow": null,
            "width": null,
            "min_width": null,
            "border": null,
            "align_items": null,
            "bottom": null,
            "_model_module": "@jupyter-widgets/base",
            "top": null,
            "grid_column": null,
            "overflow_y": null,
            "overflow_x": null,
            "grid_auto_flow": null,
            "grid_area": null,
            "grid_template_columns": null,
            "flex": null,
            "_model_name": "LayoutModel",
            "justify_items": null,
            "grid_row": null,
            "max_height": null,
            "align_content": null,
            "visibility": null,
            "align_self": null,
            "height": null,
            "min_height": null,
            "padding": null,
            "grid_auto_rows": null,
            "grid_gap": null,
            "max_width": null,
            "order": null,
            "_view_module_version": "1.2.0",
            "grid_template_areas": null,
            "object_position": null,
            "object_fit": null,
            "grid_auto_columns": null,
            "margin": null,
            "display": null,
            "left": null
          }
        },
        "97faf92f07264433a71b1c12b3e4dd23": {
          "model_module": "@jupyter-widgets/controls",
          "model_name": "DescriptionStyleModel",
          "state": {
            "_view_name": "StyleView",
            "_model_name": "DescriptionStyleModel",
            "description_width": "",
            "_view_module": "@jupyter-widgets/base",
            "_model_module_version": "1.5.0",
            "_view_count": null,
            "_view_module_version": "1.2.0",
            "_model_module": "@jupyter-widgets/controls"
          }
        },
        "2085b8603fda4e76a9fdcaa6b8b96a22": {
          "model_module": "@jupyter-widgets/base",
          "model_name": "LayoutModel",
          "state": {
            "_view_name": "LayoutView",
            "grid_template_rows": null,
            "right": null,
            "justify_content": null,
            "_view_module": "@jupyter-widgets/base",
            "overflow": null,
            "_model_module_version": "1.2.0",
            "_view_count": null,
            "flex_flow": null,
            "width": null,
            "min_width": null,
            "border": null,
            "align_items": null,
            "bottom": null,
            "_model_module": "@jupyter-widgets/base",
            "top": null,
            "grid_column": null,
            "overflow_y": null,
            "overflow_x": null,
            "grid_auto_flow": null,
            "grid_area": null,
            "grid_template_columns": null,
            "flex": null,
            "_model_name": "LayoutModel",
            "justify_items": null,
            "grid_row": null,
            "max_height": null,
            "align_content": null,
            "visibility": null,
            "align_self": null,
            "height": null,
            "min_height": null,
            "padding": null,
            "grid_auto_rows": null,
            "grid_gap": null,
            "max_width": null,
            "order": null,
            "_view_module_version": "1.2.0",
            "grid_template_areas": null,
            "object_position": null,
            "object_fit": null,
            "grid_auto_columns": null,
            "margin": null,
            "display": null,
            "left": null
          }
        },
        "bc28d01f63ab463d89f1fa7c33e3780d": {
          "model_module": "@jupyter-widgets/controls",
          "model_name": "HBoxModel",
          "state": {
            "_view_name": "HBoxView",
            "_dom_classes": [],
            "_model_name": "HBoxModel",
            "_view_module": "@jupyter-widgets/controls",
            "_model_module_version": "1.5.0",
            "_view_count": null,
            "_view_module_version": "1.5.0",
            "box_style": "",
            "layout": "IPY_MODEL_d15c9e9a627a4e358baba43347fe65ec",
            "_model_module": "@jupyter-widgets/controls",
            "children": [
              "IPY_MODEL_af54a993b6444219838aaae923f8e056",
              "IPY_MODEL_4e32f7e8a141476e872cb4c84ab5a5ab"
            ]
          }
        },
        "d15c9e9a627a4e358baba43347fe65ec": {
          "model_module": "@jupyter-widgets/base",
          "model_name": "LayoutModel",
          "state": {
            "_view_name": "LayoutView",
            "grid_template_rows": null,
            "right": null,
            "justify_content": null,
            "_view_module": "@jupyter-widgets/base",
            "overflow": null,
            "_model_module_version": "1.2.0",
            "_view_count": null,
            "flex_flow": null,
            "width": null,
            "min_width": null,
            "border": null,
            "align_items": null,
            "bottom": null,
            "_model_module": "@jupyter-widgets/base",
            "top": null,
            "grid_column": null,
            "overflow_y": null,
            "overflow_x": null,
            "grid_auto_flow": null,
            "grid_area": null,
            "grid_template_columns": null,
            "flex": null,
            "_model_name": "LayoutModel",
            "justify_items": null,
            "grid_row": null,
            "max_height": null,
            "align_content": null,
            "visibility": null,
            "align_self": null,
            "height": null,
            "min_height": null,
            "padding": null,
            "grid_auto_rows": null,
            "grid_gap": null,
            "max_width": null,
            "order": null,
            "_view_module_version": "1.2.0",
            "grid_template_areas": null,
            "object_position": null,
            "object_fit": null,
            "grid_auto_columns": null,
            "margin": null,
            "display": null,
            "left": null
          }
        },
        "af54a993b6444219838aaae923f8e056": {
          "model_module": "@jupyter-widgets/controls",
          "model_name": "FloatProgressModel",
          "state": {
            "_view_name": "ProgressView",
            "style": "IPY_MODEL_626ee1b7094c45f7877ad0ab4140f93a",
            "_dom_classes": [],
            "description": "Dl Size...: 100%",
            "_model_name": "FloatProgressModel",
            "bar_style": "success",
            "max": 1,
            "_view_module": "@jupyter-widgets/controls",
            "_model_module_version": "1.5.0",
            "value": 1,
            "_view_count": null,
            "_view_module_version": "1.5.0",
            "orientation": "horizontal",
            "min": 0,
            "description_tooltip": null,
            "_model_module": "@jupyter-widgets/controls",
            "layout": "IPY_MODEL_d948b3d08b2343a59326e40bfcc7801c"
          }
        },
        "4e32f7e8a141476e872cb4c84ab5a5ab": {
          "model_module": "@jupyter-widgets/controls",
          "model_name": "HTMLModel",
          "state": {
            "_view_name": "HTMLView",
            "style": "IPY_MODEL_c8d23a7afb9f4d5bbefbf22491ff68d8",
            "_dom_classes": [],
            "description": "",
            "_model_name": "HTMLModel",
            "placeholder": "​",
            "_view_module": "@jupyter-widgets/controls",
            "_model_module_version": "1.5.0",
            "value": " 80/80 [00:10&lt;00:00,  7.99 MiB/s]",
            "_view_count": null,
            "_view_module_version": "1.5.0",
            "description_tooltip": null,
            "_model_module": "@jupyter-widgets/controls",
            "layout": "IPY_MODEL_d48194b5c60e4ade9fe7992486c7997b"
          }
        },
        "626ee1b7094c45f7877ad0ab4140f93a": {
          "model_module": "@jupyter-widgets/controls",
          "model_name": "ProgressStyleModel",
          "state": {
            "_view_name": "StyleView",
            "_model_name": "ProgressStyleModel",
            "description_width": "initial",
            "_view_module": "@jupyter-widgets/base",
            "_model_module_version": "1.5.0",
            "_view_count": null,
            "_view_module_version": "1.2.0",
            "bar_color": null,
            "_model_module": "@jupyter-widgets/controls"
          }
        },
        "d948b3d08b2343a59326e40bfcc7801c": {
          "model_module": "@jupyter-widgets/base",
          "model_name": "LayoutModel",
          "state": {
            "_view_name": "LayoutView",
            "grid_template_rows": null,
            "right": null,
            "justify_content": null,
            "_view_module": "@jupyter-widgets/base",
            "overflow": null,
            "_model_module_version": "1.2.0",
            "_view_count": null,
            "flex_flow": null,
            "width": null,
            "min_width": null,
            "border": null,
            "align_items": null,
            "bottom": null,
            "_model_module": "@jupyter-widgets/base",
            "top": null,
            "grid_column": null,
            "overflow_y": null,
            "overflow_x": null,
            "grid_auto_flow": null,
            "grid_area": null,
            "grid_template_columns": null,
            "flex": null,
            "_model_name": "LayoutModel",
            "justify_items": null,
            "grid_row": null,
            "max_height": null,
            "align_content": null,
            "visibility": null,
            "align_self": null,
            "height": null,
            "min_height": null,
            "padding": null,
            "grid_auto_rows": null,
            "grid_gap": null,
            "max_width": null,
            "order": null,
            "_view_module_version": "1.2.0",
            "grid_template_areas": null,
            "object_position": null,
            "object_fit": null,
            "grid_auto_columns": null,
            "margin": null,
            "display": null,
            "left": null
          }
        },
        "c8d23a7afb9f4d5bbefbf22491ff68d8": {
          "model_module": "@jupyter-widgets/controls",
          "model_name": "DescriptionStyleModel",
          "state": {
            "_view_name": "StyleView",
            "_model_name": "DescriptionStyleModel",
            "description_width": "",
            "_view_module": "@jupyter-widgets/base",
            "_model_module_version": "1.5.0",
            "_view_count": null,
            "_view_module_version": "1.2.0",
            "_model_module": "@jupyter-widgets/controls"
          }
        },
        "d48194b5c60e4ade9fe7992486c7997b": {
          "model_module": "@jupyter-widgets/base",
          "model_name": "LayoutModel",
          "state": {
            "_view_name": "LayoutView",
            "grid_template_rows": null,
            "right": null,
            "justify_content": null,
            "_view_module": "@jupyter-widgets/base",
            "overflow": null,
            "_model_module_version": "1.2.0",
            "_view_count": null,
            "flex_flow": null,
            "width": null,
            "min_width": null,
            "border": null,
            "align_items": null,
            "bottom": null,
            "_model_module": "@jupyter-widgets/base",
            "top": null,
            "grid_column": null,
            "overflow_y": null,
            "overflow_x": null,
            "grid_auto_flow": null,
            "grid_area": null,
            "grid_template_columns": null,
            "flex": null,
            "_model_name": "LayoutModel",
            "justify_items": null,
            "grid_row": null,
            "max_height": null,
            "align_content": null,
            "visibility": null,
            "align_self": null,
            "height": null,
            "min_height": null,
            "padding": null,
            "grid_auto_rows": null,
            "grid_gap": null,
            "max_width": null,
            "order": null,
            "_view_module_version": "1.2.0",
            "grid_template_areas": null,
            "object_position": null,
            "object_fit": null,
            "grid_auto_columns": null,
            "margin": null,
            "display": null,
            "left": null
          }
        },
        "56c3fab0cd47480cb7fabde8b59e58da": {
          "model_module": "@jupyter-widgets/controls",
          "model_name": "HBoxModel",
          "state": {
            "_view_name": "HBoxView",
            "_dom_classes": [],
            "_model_name": "HBoxModel",
            "_view_module": "@jupyter-widgets/controls",
            "_model_module_version": "1.5.0",
            "_view_count": null,
            "_view_module_version": "1.5.0",
            "box_style": "",
            "layout": "IPY_MODEL_02e20a885a85498787a90e2abbe50901",
            "_model_module": "@jupyter-widgets/controls",
            "children": [
              "IPY_MODEL_17364f9dbd7a4499920b9652a37b4ba7",
              "IPY_MODEL_3f2199d98daf4bb5a98d2f42026e92af"
            ]
          }
        },
        "02e20a885a85498787a90e2abbe50901": {
          "model_module": "@jupyter-widgets/base",
          "model_name": "LayoutModel",
          "state": {
            "_view_name": "LayoutView",
            "grid_template_rows": null,
            "right": null,
            "justify_content": null,
            "_view_module": "@jupyter-widgets/base",
            "overflow": null,
            "_model_module_version": "1.2.0",
            "_view_count": null,
            "flex_flow": null,
            "width": null,
            "min_width": null,
            "border": null,
            "align_items": null,
            "bottom": null,
            "_model_module": "@jupyter-widgets/base",
            "top": null,
            "grid_column": null,
            "overflow_y": null,
            "overflow_x": null,
            "grid_auto_flow": null,
            "grid_area": null,
            "grid_template_columns": null,
            "flex": null,
            "_model_name": "LayoutModel",
            "justify_items": null,
            "grid_row": null,
            "max_height": null,
            "align_content": null,
            "visibility": null,
            "align_self": null,
            "height": null,
            "min_height": null,
            "padding": null,
            "grid_auto_rows": null,
            "grid_gap": null,
            "max_width": null,
            "order": null,
            "_view_module_version": "1.2.0",
            "grid_template_areas": null,
            "object_position": null,
            "object_fit": null,
            "grid_auto_columns": null,
            "margin": null,
            "display": null,
            "left": null
          }
        },
        "17364f9dbd7a4499920b9652a37b4ba7": {
          "model_module": "@jupyter-widgets/controls",
          "model_name": "FloatProgressModel",
          "state": {
            "_view_name": "ProgressView",
            "style": "IPY_MODEL_4ecf143922ad4bdc9fbb59f94bbbe8f7",
            "_dom_classes": [],
            "description": "",
            "_model_name": "FloatProgressModel",
            "bar_style": "info",
            "max": 1,
            "_view_module": "@jupyter-widgets/controls",
            "_model_module_version": "1.5.0",
            "value": 1,
            "_view_count": null,
            "_view_module_version": "1.5.0",
            "orientation": "horizontal",
            "min": 0,
            "description_tooltip": null,
            "_model_module": "@jupyter-widgets/controls",
            "layout": "IPY_MODEL_a13cff4a020a47249d45f970f67963b2"
          }
        },
        "3f2199d98daf4bb5a98d2f42026e92af": {
          "model_module": "@jupyter-widgets/controls",
          "model_name": "HTMLModel",
          "state": {
            "_view_name": "HTMLView",
            "style": "IPY_MODEL_3ae7c11c59fb49a6ac5fb06f6f662d7f",
            "_dom_classes": [],
            "description": "",
            "_model_name": "HTMLModel",
            "placeholder": "​",
            "_view_module": "@jupyter-widgets/controls",
            "_model_module_version": "1.5.0",
            "value": " 25000/0 [00:18&lt;00:00, 2277.69 examples/s]",
            "_view_count": null,
            "_view_module_version": "1.5.0",
            "description_tooltip": null,
            "_model_module": "@jupyter-widgets/controls",
            "layout": "IPY_MODEL_a53701bf3d31489d9ba0a594e773a127"
          }
        },
        "4ecf143922ad4bdc9fbb59f94bbbe8f7": {
          "model_module": "@jupyter-widgets/controls",
          "model_name": "ProgressStyleModel",
          "state": {
            "_view_name": "StyleView",
            "_model_name": "ProgressStyleModel",
            "description_width": "initial",
            "_view_module": "@jupyter-widgets/base",
            "_model_module_version": "1.5.0",
            "_view_count": null,
            "_view_module_version": "1.2.0",
            "bar_color": null,
            "_model_module": "@jupyter-widgets/controls"
          }
        },
        "a13cff4a020a47249d45f970f67963b2": {
          "model_module": "@jupyter-widgets/base",
          "model_name": "LayoutModel",
          "state": {
            "_view_name": "LayoutView",
            "grid_template_rows": null,
            "right": null,
            "justify_content": null,
            "_view_module": "@jupyter-widgets/base",
            "overflow": null,
            "_model_module_version": "1.2.0",
            "_view_count": null,
            "flex_flow": null,
            "width": null,
            "min_width": null,
            "border": null,
            "align_items": null,
            "bottom": null,
            "_model_module": "@jupyter-widgets/base",
            "top": null,
            "grid_column": null,
            "overflow_y": null,
            "overflow_x": null,
            "grid_auto_flow": null,
            "grid_area": null,
            "grid_template_columns": null,
            "flex": null,
            "_model_name": "LayoutModel",
            "justify_items": null,
            "grid_row": null,
            "max_height": null,
            "align_content": null,
            "visibility": null,
            "align_self": null,
            "height": null,
            "min_height": null,
            "padding": null,
            "grid_auto_rows": null,
            "grid_gap": null,
            "max_width": null,
            "order": null,
            "_view_module_version": "1.2.0",
            "grid_template_areas": null,
            "object_position": null,
            "object_fit": null,
            "grid_auto_columns": null,
            "margin": null,
            "display": null,
            "left": null
          }
        },
        "3ae7c11c59fb49a6ac5fb06f6f662d7f": {
          "model_module": "@jupyter-widgets/controls",
          "model_name": "DescriptionStyleModel",
          "state": {
            "_view_name": "StyleView",
            "_model_name": "DescriptionStyleModel",
            "description_width": "",
            "_view_module": "@jupyter-widgets/base",
            "_model_module_version": "1.5.0",
            "_view_count": null,
            "_view_module_version": "1.2.0",
            "_model_module": "@jupyter-widgets/controls"
          }
        },
        "a53701bf3d31489d9ba0a594e773a127": {
          "model_module": "@jupyter-widgets/base",
          "model_name": "LayoutModel",
          "state": {
            "_view_name": "LayoutView",
            "grid_template_rows": null,
            "right": null,
            "justify_content": null,
            "_view_module": "@jupyter-widgets/base",
            "overflow": null,
            "_model_module_version": "1.2.0",
            "_view_count": null,
            "flex_flow": null,
            "width": null,
            "min_width": null,
            "border": null,
            "align_items": null,
            "bottom": null,
            "_model_module": "@jupyter-widgets/base",
            "top": null,
            "grid_column": null,
            "overflow_y": null,
            "overflow_x": null,
            "grid_auto_flow": null,
            "grid_area": null,
            "grid_template_columns": null,
            "flex": null,
            "_model_name": "LayoutModel",
            "justify_items": null,
            "grid_row": null,
            "max_height": null,
            "align_content": null,
            "visibility": null,
            "align_self": null,
            "height": null,
            "min_height": null,
            "padding": null,
            "grid_auto_rows": null,
            "grid_gap": null,
            "max_width": null,
            "order": null,
            "_view_module_version": "1.2.0",
            "grid_template_areas": null,
            "object_position": null,
            "object_fit": null,
            "grid_auto_columns": null,
            "margin": null,
            "display": null,
            "left": null
          }
        },
        "43db4033708e405bbaac3043557fc67b": {
          "model_module": "@jupyter-widgets/controls",
          "model_name": "HBoxModel",
          "state": {
            "_view_name": "HBoxView",
            "_dom_classes": [],
            "_model_name": "HBoxModel",
            "_view_module": "@jupyter-widgets/controls",
            "_model_module_version": "1.5.0",
            "_view_count": null,
            "_view_module_version": "1.5.0",
            "box_style": "",
            "layout": "IPY_MODEL_50af135a6c7340239c23c43a16d68e41",
            "_model_module": "@jupyter-widgets/controls",
            "children": [
              "IPY_MODEL_891664c92fa647c2a8780b53b23bc2e3",
              "IPY_MODEL_6e2e21bacead43bcbdef15a1f7600628"
            ]
          }
        },
        "50af135a6c7340239c23c43a16d68e41": {
          "model_module": "@jupyter-widgets/base",
          "model_name": "LayoutModel",
          "state": {
            "_view_name": "LayoutView",
            "grid_template_rows": null,
            "right": null,
            "justify_content": null,
            "_view_module": "@jupyter-widgets/base",
            "overflow": null,
            "_model_module_version": "1.2.0",
            "_view_count": null,
            "flex_flow": null,
            "width": null,
            "min_width": null,
            "border": null,
            "align_items": null,
            "bottom": null,
            "_model_module": "@jupyter-widgets/base",
            "top": null,
            "grid_column": null,
            "overflow_y": null,
            "overflow_x": null,
            "grid_auto_flow": null,
            "grid_area": null,
            "grid_template_columns": null,
            "flex": null,
            "_model_name": "LayoutModel",
            "justify_items": null,
            "grid_row": null,
            "max_height": null,
            "align_content": null,
            "visibility": null,
            "align_self": null,
            "height": null,
            "min_height": null,
            "padding": null,
            "grid_auto_rows": null,
            "grid_gap": null,
            "max_width": null,
            "order": null,
            "_view_module_version": "1.2.0",
            "grid_template_areas": null,
            "object_position": null,
            "object_fit": null,
            "grid_auto_columns": null,
            "margin": null,
            "display": null,
            "left": null
          }
        },
        "891664c92fa647c2a8780b53b23bc2e3": {
          "model_module": "@jupyter-widgets/controls",
          "model_name": "FloatProgressModel",
          "state": {
            "_view_name": "ProgressView",
            "style": "IPY_MODEL_5e8d9eb645f14885a2059d472b3ad389",
            "_dom_classes": [],
            "description": " 95%",
            "_model_name": "FloatProgressModel",
            "bar_style": "danger",
            "max": 25000,
            "_view_module": "@jupyter-widgets/controls",
            "_model_module_version": "1.5.0",
            "value": 23652,
            "_view_count": null,
            "_view_module_version": "1.5.0",
            "orientation": "horizontal",
            "min": 0,
            "description_tooltip": null,
            "_model_module": "@jupyter-widgets/controls",
            "layout": "IPY_MODEL_cb8fe75f9c1c45078313dba7c119560f"
          }
        },
        "6e2e21bacead43bcbdef15a1f7600628": {
          "model_module": "@jupyter-widgets/controls",
          "model_name": "HTMLModel",
          "state": {
            "_view_name": "HTMLView",
            "style": "IPY_MODEL_3f6280279be14c29a2227516b3f95c3d",
            "_dom_classes": [],
            "description": "",
            "_model_name": "HTMLModel",
            "placeholder": "​",
            "_view_module": "@jupyter-widgets/controls",
            "_model_module_version": "1.5.0",
            "value": " 23652/25000 [00:00&lt;00:00, 60825.91 examples/s]",
            "_view_count": null,
            "_view_module_version": "1.5.0",
            "description_tooltip": null,
            "_model_module": "@jupyter-widgets/controls",
            "layout": "IPY_MODEL_282e26863cbd48b78b685ce98f2d3d01"
          }
        },
        "5e8d9eb645f14885a2059d472b3ad389": {
          "model_module": "@jupyter-widgets/controls",
          "model_name": "ProgressStyleModel",
          "state": {
            "_view_name": "StyleView",
            "_model_name": "ProgressStyleModel",
            "description_width": "initial",
            "_view_module": "@jupyter-widgets/base",
            "_model_module_version": "1.5.0",
            "_view_count": null,
            "_view_module_version": "1.2.0",
            "bar_color": null,
            "_model_module": "@jupyter-widgets/controls"
          }
        },
        "cb8fe75f9c1c45078313dba7c119560f": {
          "model_module": "@jupyter-widgets/base",
          "model_name": "LayoutModel",
          "state": {
            "_view_name": "LayoutView",
            "grid_template_rows": null,
            "right": null,
            "justify_content": null,
            "_view_module": "@jupyter-widgets/base",
            "overflow": null,
            "_model_module_version": "1.2.0",
            "_view_count": null,
            "flex_flow": null,
            "width": null,
            "min_width": null,
            "border": null,
            "align_items": null,
            "bottom": null,
            "_model_module": "@jupyter-widgets/base",
            "top": null,
            "grid_column": null,
            "overflow_y": null,
            "overflow_x": null,
            "grid_auto_flow": null,
            "grid_area": null,
            "grid_template_columns": null,
            "flex": null,
            "_model_name": "LayoutModel",
            "justify_items": null,
            "grid_row": null,
            "max_height": null,
            "align_content": null,
            "visibility": null,
            "align_self": null,
            "height": null,
            "min_height": null,
            "padding": null,
            "grid_auto_rows": null,
            "grid_gap": null,
            "max_width": null,
            "order": null,
            "_view_module_version": "1.2.0",
            "grid_template_areas": null,
            "object_position": null,
            "object_fit": null,
            "grid_auto_columns": null,
            "margin": null,
            "display": null,
            "left": null
          }
        },
        "3f6280279be14c29a2227516b3f95c3d": {
          "model_module": "@jupyter-widgets/controls",
          "model_name": "DescriptionStyleModel",
          "state": {
            "_view_name": "StyleView",
            "_model_name": "DescriptionStyleModel",
            "description_width": "",
            "_view_module": "@jupyter-widgets/base",
            "_model_module_version": "1.5.0",
            "_view_count": null,
            "_view_module_version": "1.2.0",
            "_model_module": "@jupyter-widgets/controls"
          }
        },
        "282e26863cbd48b78b685ce98f2d3d01": {
          "model_module": "@jupyter-widgets/base",
          "model_name": "LayoutModel",
          "state": {
            "_view_name": "LayoutView",
            "grid_template_rows": null,
            "right": null,
            "justify_content": null,
            "_view_module": "@jupyter-widgets/base",
            "overflow": null,
            "_model_module_version": "1.2.0",
            "_view_count": null,
            "flex_flow": null,
            "width": null,
            "min_width": null,
            "border": null,
            "align_items": null,
            "bottom": null,
            "_model_module": "@jupyter-widgets/base",
            "top": null,
            "grid_column": null,
            "overflow_y": null,
            "overflow_x": null,
            "grid_auto_flow": null,
            "grid_area": null,
            "grid_template_columns": null,
            "flex": null,
            "_model_name": "LayoutModel",
            "justify_items": null,
            "grid_row": null,
            "max_height": null,
            "align_content": null,
            "visibility": null,
            "align_self": null,
            "height": null,
            "min_height": null,
            "padding": null,
            "grid_auto_rows": null,
            "grid_gap": null,
            "max_width": null,
            "order": null,
            "_view_module_version": "1.2.0",
            "grid_template_areas": null,
            "object_position": null,
            "object_fit": null,
            "grid_auto_columns": null,
            "margin": null,
            "display": null,
            "left": null
          }
        },
        "3c8288d399274896a4c2cf8797328306": {
          "model_module": "@jupyter-widgets/controls",
          "model_name": "HBoxModel",
          "state": {
            "_view_name": "HBoxView",
            "_dom_classes": [],
            "_model_name": "HBoxModel",
            "_view_module": "@jupyter-widgets/controls",
            "_model_module_version": "1.5.0",
            "_view_count": null,
            "_view_module_version": "1.5.0",
            "box_style": "",
            "layout": "IPY_MODEL_b351da87fef745cfa2c4081b36eb4595",
            "_model_module": "@jupyter-widgets/controls",
            "children": [
              "IPY_MODEL_d2729ee404b94c119786518e3f159f46",
              "IPY_MODEL_6908eefefa294f0bb67319dc60b0444c"
            ]
          }
        },
        "b351da87fef745cfa2c4081b36eb4595": {
          "model_module": "@jupyter-widgets/base",
          "model_name": "LayoutModel",
          "state": {
            "_view_name": "LayoutView",
            "grid_template_rows": null,
            "right": null,
            "justify_content": null,
            "_view_module": "@jupyter-widgets/base",
            "overflow": null,
            "_model_module_version": "1.2.0",
            "_view_count": null,
            "flex_flow": null,
            "width": null,
            "min_width": null,
            "border": null,
            "align_items": null,
            "bottom": null,
            "_model_module": "@jupyter-widgets/base",
            "top": null,
            "grid_column": null,
            "overflow_y": null,
            "overflow_x": null,
            "grid_auto_flow": null,
            "grid_area": null,
            "grid_template_columns": null,
            "flex": null,
            "_model_name": "LayoutModel",
            "justify_items": null,
            "grid_row": null,
            "max_height": null,
            "align_content": null,
            "visibility": null,
            "align_self": null,
            "height": null,
            "min_height": null,
            "padding": null,
            "grid_auto_rows": null,
            "grid_gap": null,
            "max_width": null,
            "order": null,
            "_view_module_version": "1.2.0",
            "grid_template_areas": null,
            "object_position": null,
            "object_fit": null,
            "grid_auto_columns": null,
            "margin": null,
            "display": null,
            "left": null
          }
        },
        "d2729ee404b94c119786518e3f159f46": {
          "model_module": "@jupyter-widgets/controls",
          "model_name": "FloatProgressModel",
          "state": {
            "_view_name": "ProgressView",
            "style": "IPY_MODEL_72c0c2b99a4049408f3af31717934aaf",
            "_dom_classes": [],
            "description": "",
            "_model_name": "FloatProgressModel",
            "bar_style": "info",
            "max": 1,
            "_view_module": "@jupyter-widgets/controls",
            "_model_module_version": "1.5.0",
            "value": 1,
            "_view_count": null,
            "_view_module_version": "1.5.0",
            "orientation": "horizontal",
            "min": 0,
            "description_tooltip": null,
            "_model_module": "@jupyter-widgets/controls",
            "layout": "IPY_MODEL_650f64cb5aea457ca647f2560ef749d2"
          }
        },
        "6908eefefa294f0bb67319dc60b0444c": {
          "model_module": "@jupyter-widgets/controls",
          "model_name": "HTMLModel",
          "state": {
            "_view_name": "HTMLView",
            "style": "IPY_MODEL_3efa43d6c21143cf95ea97bc1d6faf42",
            "_dom_classes": [],
            "description": "",
            "_model_name": "HTMLModel",
            "placeholder": "​",
            "_view_module": "@jupyter-widgets/controls",
            "_model_module_version": "1.5.0",
            "value": " 25000/0 [00:18&lt;00:00, 2252.75 examples/s]",
            "_view_count": null,
            "_view_module_version": "1.5.0",
            "description_tooltip": null,
            "_model_module": "@jupyter-widgets/controls",
            "layout": "IPY_MODEL_8b3a7cb0edf74e60b5dd466e4fb6491d"
          }
        },
        "72c0c2b99a4049408f3af31717934aaf": {
          "model_module": "@jupyter-widgets/controls",
          "model_name": "ProgressStyleModel",
          "state": {
            "_view_name": "StyleView",
            "_model_name": "ProgressStyleModel",
            "description_width": "initial",
            "_view_module": "@jupyter-widgets/base",
            "_model_module_version": "1.5.0",
            "_view_count": null,
            "_view_module_version": "1.2.0",
            "bar_color": null,
            "_model_module": "@jupyter-widgets/controls"
          }
        },
        "650f64cb5aea457ca647f2560ef749d2": {
          "model_module": "@jupyter-widgets/base",
          "model_name": "LayoutModel",
          "state": {
            "_view_name": "LayoutView",
            "grid_template_rows": null,
            "right": null,
            "justify_content": null,
            "_view_module": "@jupyter-widgets/base",
            "overflow": null,
            "_model_module_version": "1.2.0",
            "_view_count": null,
            "flex_flow": null,
            "width": null,
            "min_width": null,
            "border": null,
            "align_items": null,
            "bottom": null,
            "_model_module": "@jupyter-widgets/base",
            "top": null,
            "grid_column": null,
            "overflow_y": null,
            "overflow_x": null,
            "grid_auto_flow": null,
            "grid_area": null,
            "grid_template_columns": null,
            "flex": null,
            "_model_name": "LayoutModel",
            "justify_items": null,
            "grid_row": null,
            "max_height": null,
            "align_content": null,
            "visibility": null,
            "align_self": null,
            "height": null,
            "min_height": null,
            "padding": null,
            "grid_auto_rows": null,
            "grid_gap": null,
            "max_width": null,
            "order": null,
            "_view_module_version": "1.2.0",
            "grid_template_areas": null,
            "object_position": null,
            "object_fit": null,
            "grid_auto_columns": null,
            "margin": null,
            "display": null,
            "left": null
          }
        },
        "3efa43d6c21143cf95ea97bc1d6faf42": {
          "model_module": "@jupyter-widgets/controls",
          "model_name": "DescriptionStyleModel",
          "state": {
            "_view_name": "StyleView",
            "_model_name": "DescriptionStyleModel",
            "description_width": "",
            "_view_module": "@jupyter-widgets/base",
            "_model_module_version": "1.5.0",
            "_view_count": null,
            "_view_module_version": "1.2.0",
            "_model_module": "@jupyter-widgets/controls"
          }
        },
        "8b3a7cb0edf74e60b5dd466e4fb6491d": {
          "model_module": "@jupyter-widgets/base",
          "model_name": "LayoutModel",
          "state": {
            "_view_name": "LayoutView",
            "grid_template_rows": null,
            "right": null,
            "justify_content": null,
            "_view_module": "@jupyter-widgets/base",
            "overflow": null,
            "_model_module_version": "1.2.0",
            "_view_count": null,
            "flex_flow": null,
            "width": null,
            "min_width": null,
            "border": null,
            "align_items": null,
            "bottom": null,
            "_model_module": "@jupyter-widgets/base",
            "top": null,
            "grid_column": null,
            "overflow_y": null,
            "overflow_x": null,
            "grid_auto_flow": null,
            "grid_area": null,
            "grid_template_columns": null,
            "flex": null,
            "_model_name": "LayoutModel",
            "justify_items": null,
            "grid_row": null,
            "max_height": null,
            "align_content": null,
            "visibility": null,
            "align_self": null,
            "height": null,
            "min_height": null,
            "padding": null,
            "grid_auto_rows": null,
            "grid_gap": null,
            "max_width": null,
            "order": null,
            "_view_module_version": "1.2.0",
            "grid_template_areas": null,
            "object_position": null,
            "object_fit": null,
            "grid_auto_columns": null,
            "margin": null,
            "display": null,
            "left": null
          }
        },
        "343b5e768e844c7c91b6f8e51efff519": {
          "model_module": "@jupyter-widgets/controls",
          "model_name": "HBoxModel",
          "state": {
            "_view_name": "HBoxView",
            "_dom_classes": [],
            "_model_name": "HBoxModel",
            "_view_module": "@jupyter-widgets/controls",
            "_model_module_version": "1.5.0",
            "_view_count": null,
            "_view_module_version": "1.5.0",
            "box_style": "",
            "layout": "IPY_MODEL_13e66a6aa44544a986c64d969ea3656c",
            "_model_module": "@jupyter-widgets/controls",
            "children": [
              "IPY_MODEL_cdb9e34a04e8471ba220ae225a54f548",
              "IPY_MODEL_e1542a5d4a3b4cbdbd0aa5d9f037d0e3"
            ]
          }
        },
        "13e66a6aa44544a986c64d969ea3656c": {
          "model_module": "@jupyter-widgets/base",
          "model_name": "LayoutModel",
          "state": {
            "_view_name": "LayoutView",
            "grid_template_rows": null,
            "right": null,
            "justify_content": null,
            "_view_module": "@jupyter-widgets/base",
            "overflow": null,
            "_model_module_version": "1.2.0",
            "_view_count": null,
            "flex_flow": null,
            "width": null,
            "min_width": null,
            "border": null,
            "align_items": null,
            "bottom": null,
            "_model_module": "@jupyter-widgets/base",
            "top": null,
            "grid_column": null,
            "overflow_y": null,
            "overflow_x": null,
            "grid_auto_flow": null,
            "grid_area": null,
            "grid_template_columns": null,
            "flex": null,
            "_model_name": "LayoutModel",
            "justify_items": null,
            "grid_row": null,
            "max_height": null,
            "align_content": null,
            "visibility": null,
            "align_self": null,
            "height": null,
            "min_height": null,
            "padding": null,
            "grid_auto_rows": null,
            "grid_gap": null,
            "max_width": null,
            "order": null,
            "_view_module_version": "1.2.0",
            "grid_template_areas": null,
            "object_position": null,
            "object_fit": null,
            "grid_auto_columns": null,
            "margin": null,
            "display": null,
            "left": null
          }
        },
        "cdb9e34a04e8471ba220ae225a54f548": {
          "model_module": "@jupyter-widgets/controls",
          "model_name": "FloatProgressModel",
          "state": {
            "_view_name": "ProgressView",
            "style": "IPY_MODEL_9b23a9c40abb4e13b86bd92fcff4533a",
            "_dom_classes": [],
            "description": " 99%",
            "_model_name": "FloatProgressModel",
            "bar_style": "danger",
            "max": 25000,
            "_view_module": "@jupyter-widgets/controls",
            "_model_module_version": "1.5.0",
            "value": 24715,
            "_view_count": null,
            "_view_module_version": "1.5.0",
            "orientation": "horizontal",
            "min": 0,
            "description_tooltip": null,
            "_model_module": "@jupyter-widgets/controls",
            "layout": "IPY_MODEL_522709d08a0249f79dae78dd1c07695a"
          }
        },
        "e1542a5d4a3b4cbdbd0aa5d9f037d0e3": {
          "model_module": "@jupyter-widgets/controls",
          "model_name": "HTMLModel",
          "state": {
            "_view_name": "HTMLView",
            "style": "IPY_MODEL_59768eb289ca44978c88af761b58a682",
            "_dom_classes": [],
            "description": "",
            "_model_name": "HTMLModel",
            "placeholder": "​",
            "_view_module": "@jupyter-widgets/controls",
            "_model_module_version": "1.5.0",
            "value": " 24715/25000 [00:00&lt;00:00, 67394.91 examples/s]",
            "_view_count": null,
            "_view_module_version": "1.5.0",
            "description_tooltip": null,
            "_model_module": "@jupyter-widgets/controls",
            "layout": "IPY_MODEL_8455a80146104a03b137d679b2b6f049"
          }
        },
        "9b23a9c40abb4e13b86bd92fcff4533a": {
          "model_module": "@jupyter-widgets/controls",
          "model_name": "ProgressStyleModel",
          "state": {
            "_view_name": "StyleView",
            "_model_name": "ProgressStyleModel",
            "description_width": "initial",
            "_view_module": "@jupyter-widgets/base",
            "_model_module_version": "1.5.0",
            "_view_count": null,
            "_view_module_version": "1.2.0",
            "bar_color": null,
            "_model_module": "@jupyter-widgets/controls"
          }
        },
        "522709d08a0249f79dae78dd1c07695a": {
          "model_module": "@jupyter-widgets/base",
          "model_name": "LayoutModel",
          "state": {
            "_view_name": "LayoutView",
            "grid_template_rows": null,
            "right": null,
            "justify_content": null,
            "_view_module": "@jupyter-widgets/base",
            "overflow": null,
            "_model_module_version": "1.2.0",
            "_view_count": null,
            "flex_flow": null,
            "width": null,
            "min_width": null,
            "border": null,
            "align_items": null,
            "bottom": null,
            "_model_module": "@jupyter-widgets/base",
            "top": null,
            "grid_column": null,
            "overflow_y": null,
            "overflow_x": null,
            "grid_auto_flow": null,
            "grid_area": null,
            "grid_template_columns": null,
            "flex": null,
            "_model_name": "LayoutModel",
            "justify_items": null,
            "grid_row": null,
            "max_height": null,
            "align_content": null,
            "visibility": null,
            "align_self": null,
            "height": null,
            "min_height": null,
            "padding": null,
            "grid_auto_rows": null,
            "grid_gap": null,
            "max_width": null,
            "order": null,
            "_view_module_version": "1.2.0",
            "grid_template_areas": null,
            "object_position": null,
            "object_fit": null,
            "grid_auto_columns": null,
            "margin": null,
            "display": null,
            "left": null
          }
        },
        "59768eb289ca44978c88af761b58a682": {
          "model_module": "@jupyter-widgets/controls",
          "model_name": "DescriptionStyleModel",
          "state": {
            "_view_name": "StyleView",
            "_model_name": "DescriptionStyleModel",
            "description_width": "",
            "_view_module": "@jupyter-widgets/base",
            "_model_module_version": "1.5.0",
            "_view_count": null,
            "_view_module_version": "1.2.0",
            "_model_module": "@jupyter-widgets/controls"
          }
        },
        "8455a80146104a03b137d679b2b6f049": {
          "model_module": "@jupyter-widgets/base",
          "model_name": "LayoutModel",
          "state": {
            "_view_name": "LayoutView",
            "grid_template_rows": null,
            "right": null,
            "justify_content": null,
            "_view_module": "@jupyter-widgets/base",
            "overflow": null,
            "_model_module_version": "1.2.0",
            "_view_count": null,
            "flex_flow": null,
            "width": null,
            "min_width": null,
            "border": null,
            "align_items": null,
            "bottom": null,
            "_model_module": "@jupyter-widgets/base",
            "top": null,
            "grid_column": null,
            "overflow_y": null,
            "overflow_x": null,
            "grid_auto_flow": null,
            "grid_area": null,
            "grid_template_columns": null,
            "flex": null,
            "_model_name": "LayoutModel",
            "justify_items": null,
            "grid_row": null,
            "max_height": null,
            "align_content": null,
            "visibility": null,
            "align_self": null,
            "height": null,
            "min_height": null,
            "padding": null,
            "grid_auto_rows": null,
            "grid_gap": null,
            "max_width": null,
            "order": null,
            "_view_module_version": "1.2.0",
            "grid_template_areas": null,
            "object_position": null,
            "object_fit": null,
            "grid_auto_columns": null,
            "margin": null,
            "display": null,
            "left": null
          }
        },
        "37695595dfd84efe9b2b3ebdab7bca75": {
          "model_module": "@jupyter-widgets/controls",
          "model_name": "HBoxModel",
          "state": {
            "_view_name": "HBoxView",
            "_dom_classes": [],
            "_model_name": "HBoxModel",
            "_view_module": "@jupyter-widgets/controls",
            "_model_module_version": "1.5.0",
            "_view_count": null,
            "_view_module_version": "1.5.0",
            "box_style": "",
            "layout": "IPY_MODEL_d85b0757daa5410c8642ef0fc0895b2f",
            "_model_module": "@jupyter-widgets/controls",
            "children": [
              "IPY_MODEL_060fdbd9ddb847f78120a226a171a7b4",
              "IPY_MODEL_22790dde51dd4dc086a56e9f2854a0c0"
            ]
          }
        },
        "d85b0757daa5410c8642ef0fc0895b2f": {
          "model_module": "@jupyter-widgets/base",
          "model_name": "LayoutModel",
          "state": {
            "_view_name": "LayoutView",
            "grid_template_rows": null,
            "right": null,
            "justify_content": null,
            "_view_module": "@jupyter-widgets/base",
            "overflow": null,
            "_model_module_version": "1.2.0",
            "_view_count": null,
            "flex_flow": null,
            "width": null,
            "min_width": null,
            "border": null,
            "align_items": null,
            "bottom": null,
            "_model_module": "@jupyter-widgets/base",
            "top": null,
            "grid_column": null,
            "overflow_y": null,
            "overflow_x": null,
            "grid_auto_flow": null,
            "grid_area": null,
            "grid_template_columns": null,
            "flex": null,
            "_model_name": "LayoutModel",
            "justify_items": null,
            "grid_row": null,
            "max_height": null,
            "align_content": null,
            "visibility": null,
            "align_self": null,
            "height": null,
            "min_height": null,
            "padding": null,
            "grid_auto_rows": null,
            "grid_gap": null,
            "max_width": null,
            "order": null,
            "_view_module_version": "1.2.0",
            "grid_template_areas": null,
            "object_position": null,
            "object_fit": null,
            "grid_auto_columns": null,
            "margin": null,
            "display": null,
            "left": null
          }
        },
        "060fdbd9ddb847f78120a226a171a7b4": {
          "model_module": "@jupyter-widgets/controls",
          "model_name": "FloatProgressModel",
          "state": {
            "_view_name": "ProgressView",
            "style": "IPY_MODEL_c3ea527d0fd64477a18ce524e7c07730",
            "_dom_classes": [],
            "description": "",
            "_model_name": "FloatProgressModel",
            "bar_style": "info",
            "max": 1,
            "_view_module": "@jupyter-widgets/controls",
            "_model_module_version": "1.5.0",
            "value": 1,
            "_view_count": null,
            "_view_module_version": "1.5.0",
            "orientation": "horizontal",
            "min": 0,
            "description_tooltip": null,
            "_model_module": "@jupyter-widgets/controls",
            "layout": "IPY_MODEL_a2c1975ac67042fdbc880c8307665e5e"
          }
        },
        "22790dde51dd4dc086a56e9f2854a0c0": {
          "model_module": "@jupyter-widgets/controls",
          "model_name": "HTMLModel",
          "state": {
            "_view_name": "HTMLView",
            "style": "IPY_MODEL_e938a17d015b4a9e8d9847227d1e53c8",
            "_dom_classes": [],
            "description": "",
            "_model_name": "HTMLModel",
            "placeholder": "​",
            "_view_module": "@jupyter-widgets/controls",
            "_model_module_version": "1.5.0",
            "value": " 50000/0 [00:27&lt;00:00, 2190.68 examples/s]",
            "_view_count": null,
            "_view_module_version": "1.5.0",
            "description_tooltip": null,
            "_model_module": "@jupyter-widgets/controls",
            "layout": "IPY_MODEL_0be087f4eea14d1cb50a4a874cc4fcee"
          }
        },
        "c3ea527d0fd64477a18ce524e7c07730": {
          "model_module": "@jupyter-widgets/controls",
          "model_name": "ProgressStyleModel",
          "state": {
            "_view_name": "StyleView",
            "_model_name": "ProgressStyleModel",
            "description_width": "initial",
            "_view_module": "@jupyter-widgets/base",
            "_model_module_version": "1.5.0",
            "_view_count": null,
            "_view_module_version": "1.2.0",
            "bar_color": null,
            "_model_module": "@jupyter-widgets/controls"
          }
        },
        "a2c1975ac67042fdbc880c8307665e5e": {
          "model_module": "@jupyter-widgets/base",
          "model_name": "LayoutModel",
          "state": {
            "_view_name": "LayoutView",
            "grid_template_rows": null,
            "right": null,
            "justify_content": null,
            "_view_module": "@jupyter-widgets/base",
            "overflow": null,
            "_model_module_version": "1.2.0",
            "_view_count": null,
            "flex_flow": null,
            "width": null,
            "min_width": null,
            "border": null,
            "align_items": null,
            "bottom": null,
            "_model_module": "@jupyter-widgets/base",
            "top": null,
            "grid_column": null,
            "overflow_y": null,
            "overflow_x": null,
            "grid_auto_flow": null,
            "grid_area": null,
            "grid_template_columns": null,
            "flex": null,
            "_model_name": "LayoutModel",
            "justify_items": null,
            "grid_row": null,
            "max_height": null,
            "align_content": null,
            "visibility": null,
            "align_self": null,
            "height": null,
            "min_height": null,
            "padding": null,
            "grid_auto_rows": null,
            "grid_gap": null,
            "max_width": null,
            "order": null,
            "_view_module_version": "1.2.0",
            "grid_template_areas": null,
            "object_position": null,
            "object_fit": null,
            "grid_auto_columns": null,
            "margin": null,
            "display": null,
            "left": null
          }
        },
        "e938a17d015b4a9e8d9847227d1e53c8": {
          "model_module": "@jupyter-widgets/controls",
          "model_name": "DescriptionStyleModel",
          "state": {
            "_view_name": "StyleView",
            "_model_name": "DescriptionStyleModel",
            "description_width": "",
            "_view_module": "@jupyter-widgets/base",
            "_model_module_version": "1.5.0",
            "_view_count": null,
            "_view_module_version": "1.2.0",
            "_model_module": "@jupyter-widgets/controls"
          }
        },
        "0be087f4eea14d1cb50a4a874cc4fcee": {
          "model_module": "@jupyter-widgets/base",
          "model_name": "LayoutModel",
          "state": {
            "_view_name": "LayoutView",
            "grid_template_rows": null,
            "right": null,
            "justify_content": null,
            "_view_module": "@jupyter-widgets/base",
            "overflow": null,
            "_model_module_version": "1.2.0",
            "_view_count": null,
            "flex_flow": null,
            "width": null,
            "min_width": null,
            "border": null,
            "align_items": null,
            "bottom": null,
            "_model_module": "@jupyter-widgets/base",
            "top": null,
            "grid_column": null,
            "overflow_y": null,
            "overflow_x": null,
            "grid_auto_flow": null,
            "grid_area": null,
            "grid_template_columns": null,
            "flex": null,
            "_model_name": "LayoutModel",
            "justify_items": null,
            "grid_row": null,
            "max_height": null,
            "align_content": null,
            "visibility": null,
            "align_self": null,
            "height": null,
            "min_height": null,
            "padding": null,
            "grid_auto_rows": null,
            "grid_gap": null,
            "max_width": null,
            "order": null,
            "_view_module_version": "1.2.0",
            "grid_template_areas": null,
            "object_position": null,
            "object_fit": null,
            "grid_auto_columns": null,
            "margin": null,
            "display": null,
            "left": null
          }
        },
        "769c0eb2a94f43b8866ef9cad6182ea3": {
          "model_module": "@jupyter-widgets/controls",
          "model_name": "HBoxModel",
          "state": {
            "_view_name": "HBoxView",
            "_dom_classes": [],
            "_model_name": "HBoxModel",
            "_view_module": "@jupyter-widgets/controls",
            "_model_module_version": "1.5.0",
            "_view_count": null,
            "_view_module_version": "1.5.0",
            "box_style": "",
            "layout": "IPY_MODEL_3dc3f4ca3fad4d43808a1e2a8563c9d4",
            "_model_module": "@jupyter-widgets/controls",
            "children": [
              "IPY_MODEL_cd24f6c5831f4029b2263d465f7218eb",
              "IPY_MODEL_31d273e9dcc0473ab762aafc60d209b2"
            ]
          }
        },
        "3dc3f4ca3fad4d43808a1e2a8563c9d4": {
          "model_module": "@jupyter-widgets/base",
          "model_name": "LayoutModel",
          "state": {
            "_view_name": "LayoutView",
            "grid_template_rows": null,
            "right": null,
            "justify_content": null,
            "_view_module": "@jupyter-widgets/base",
            "overflow": null,
            "_model_module_version": "1.2.0",
            "_view_count": null,
            "flex_flow": null,
            "width": null,
            "min_width": null,
            "border": null,
            "align_items": null,
            "bottom": null,
            "_model_module": "@jupyter-widgets/base",
            "top": null,
            "grid_column": null,
            "overflow_y": null,
            "overflow_x": null,
            "grid_auto_flow": null,
            "grid_area": null,
            "grid_template_columns": null,
            "flex": null,
            "_model_name": "LayoutModel",
            "justify_items": null,
            "grid_row": null,
            "max_height": null,
            "align_content": null,
            "visibility": null,
            "align_self": null,
            "height": null,
            "min_height": null,
            "padding": null,
            "grid_auto_rows": null,
            "grid_gap": null,
            "max_width": null,
            "order": null,
            "_view_module_version": "1.2.0",
            "grid_template_areas": null,
            "object_position": null,
            "object_fit": null,
            "grid_auto_columns": null,
            "margin": null,
            "display": null,
            "left": null
          }
        },
        "cd24f6c5831f4029b2263d465f7218eb": {
          "model_module": "@jupyter-widgets/controls",
          "model_name": "FloatProgressModel",
          "state": {
            "_view_name": "ProgressView",
            "style": "IPY_MODEL_7fffc7d69dde4b1dab78b969e26ba041",
            "_dom_classes": [],
            "description": " 81%",
            "_model_name": "FloatProgressModel",
            "bar_style": "danger",
            "max": 50000,
            "_view_module": "@jupyter-widgets/controls",
            "_model_module_version": "1.5.0",
            "value": 40673,
            "_view_count": null,
            "_view_module_version": "1.5.0",
            "orientation": "horizontal",
            "min": 0,
            "description_tooltip": null,
            "_model_module": "@jupyter-widgets/controls",
            "layout": "IPY_MODEL_4c0e5c3d208b4ad4a6df32215bea1b0b"
          }
        },
        "31d273e9dcc0473ab762aafc60d209b2": {
          "model_module": "@jupyter-widgets/controls",
          "model_name": "HTMLModel",
          "state": {
            "_view_name": "HTMLView",
            "style": "IPY_MODEL_858bacde8b1a4862abf057b2a2f9d418",
            "_dom_classes": [],
            "description": "",
            "_model_name": "HTMLModel",
            "placeholder": "​",
            "_view_module": "@jupyter-widgets/controls",
            "_model_module_version": "1.5.0",
            "value": " 40673/50000 [00:07&lt;00:00, 32376.84 examples/s]",
            "_view_count": null,
            "_view_module_version": "1.5.0",
            "description_tooltip": null,
            "_model_module": "@jupyter-widgets/controls",
            "layout": "IPY_MODEL_782d9eda6ac344768838b31c13dcb9fd"
          }
        },
        "7fffc7d69dde4b1dab78b969e26ba041": {
          "model_module": "@jupyter-widgets/controls",
          "model_name": "ProgressStyleModel",
          "state": {
            "_view_name": "StyleView",
            "_model_name": "ProgressStyleModel",
            "description_width": "initial",
            "_view_module": "@jupyter-widgets/base",
            "_model_module_version": "1.5.0",
            "_view_count": null,
            "_view_module_version": "1.2.0",
            "bar_color": null,
            "_model_module": "@jupyter-widgets/controls"
          }
        },
        "4c0e5c3d208b4ad4a6df32215bea1b0b": {
          "model_module": "@jupyter-widgets/base",
          "model_name": "LayoutModel",
          "state": {
            "_view_name": "LayoutView",
            "grid_template_rows": null,
            "right": null,
            "justify_content": null,
            "_view_module": "@jupyter-widgets/base",
            "overflow": null,
            "_model_module_version": "1.2.0",
            "_view_count": null,
            "flex_flow": null,
            "width": null,
            "min_width": null,
            "border": null,
            "align_items": null,
            "bottom": null,
            "_model_module": "@jupyter-widgets/base",
            "top": null,
            "grid_column": null,
            "overflow_y": null,
            "overflow_x": null,
            "grid_auto_flow": null,
            "grid_area": null,
            "grid_template_columns": null,
            "flex": null,
            "_model_name": "LayoutModel",
            "justify_items": null,
            "grid_row": null,
            "max_height": null,
            "align_content": null,
            "visibility": null,
            "align_self": null,
            "height": null,
            "min_height": null,
            "padding": null,
            "grid_auto_rows": null,
            "grid_gap": null,
            "max_width": null,
            "order": null,
            "_view_module_version": "1.2.0",
            "grid_template_areas": null,
            "object_position": null,
            "object_fit": null,
            "grid_auto_columns": null,
            "margin": null,
            "display": null,
            "left": null
          }
        },
        "858bacde8b1a4862abf057b2a2f9d418": {
          "model_module": "@jupyter-widgets/controls",
          "model_name": "DescriptionStyleModel",
          "state": {
            "_view_name": "StyleView",
            "_model_name": "DescriptionStyleModel",
            "description_width": "",
            "_view_module": "@jupyter-widgets/base",
            "_model_module_version": "1.5.0",
            "_view_count": null,
            "_view_module_version": "1.2.0",
            "_model_module": "@jupyter-widgets/controls"
          }
        },
        "782d9eda6ac344768838b31c13dcb9fd": {
          "model_module": "@jupyter-widgets/base",
          "model_name": "LayoutModel",
          "state": {
            "_view_name": "LayoutView",
            "grid_template_rows": null,
            "right": null,
            "justify_content": null,
            "_view_module": "@jupyter-widgets/base",
            "overflow": null,
            "_model_module_version": "1.2.0",
            "_view_count": null,
            "flex_flow": null,
            "width": null,
            "min_width": null,
            "border": null,
            "align_items": null,
            "bottom": null,
            "_model_module": "@jupyter-widgets/base",
            "top": null,
            "grid_column": null,
            "overflow_y": null,
            "overflow_x": null,
            "grid_auto_flow": null,
            "grid_area": null,
            "grid_template_columns": null,
            "flex": null,
            "_model_name": "LayoutModel",
            "justify_items": null,
            "grid_row": null,
            "max_height": null,
            "align_content": null,
            "visibility": null,
            "align_self": null,
            "height": null,
            "min_height": null,
            "padding": null,
            "grid_auto_rows": null,
            "grid_gap": null,
            "max_width": null,
            "order": null,
            "_view_module_version": "1.2.0",
            "grid_template_areas": null,
            "object_position": null,
            "object_fit": null,
            "grid_auto_columns": null,
            "margin": null,
            "display": null,
            "left": null
          }
        }
      }
    }
  },
  "cells": [
    {
      "cell_type": "markdown",
      "metadata": {
        "id": "view-in-github",
        "colab_type": "text"
      },
      "source": [
        "<a href=\"https://colab.research.google.com/github/Pager07/TensorflowSpecialization/blob/master/C3W2_WordEmbeddingAndVis.ipynb\" target=\"_parent\"><img src=\"https://colab.research.google.com/assets/colab-badge.svg\" alt=\"Open In Colab\"/></a>"
      ]
    },
    {
      "cell_type": "markdown",
      "metadata": {
        "id": "fFygs0ScVpDo",
        "colab_type": "text"
      },
      "source": [
        "#Dowloading and loading Dataset"
      ]
    },
    {
      "cell_type": "code",
      "metadata": {
        "id": "fjBccZc-SXIg",
        "colab_type": "code",
        "colab": {
          "base_uri": "https://localhost:8080/",
          "height": 34
        },
        "outputId": "03072b3e-5988-4e16-c2d8-1d18d3f745ec"
      },
      "source": [
        "import tensorflow as tf\n",
        "print(tf.__version__)"
      ],
      "execution_count": 1,
      "outputs": [
        {
          "output_type": "stream",
          "text": [
            "2.2.0\n"
          ],
          "name": "stdout"
        }
      ]
    },
    {
      "cell_type": "code",
      "metadata": {
        "id": "d0rHCazgS6xb",
        "colab_type": "code",
        "colab": {
          "base_uri": "https://localhost:8080/",
          "height": 350,
          "referenced_widgets": [
            "8bde644143a346579205fa1c2b5502b3",
            "a3d43f421b0345de98069c30badecb48",
            "3dbb0dd174da4ea4bf4a714dfe27fae2",
            "eaf2bf77d367412db3233360b0f6c8ee",
            "f9b57f2f5d96476eb1d3cf1e31a2c25a",
            "64b31f1f6c6144f0bd4c1dfe1656f3e9",
            "97faf92f07264433a71b1c12b3e4dd23",
            "2085b8603fda4e76a9fdcaa6b8b96a22",
            "bc28d01f63ab463d89f1fa7c33e3780d",
            "d15c9e9a627a4e358baba43347fe65ec",
            "af54a993b6444219838aaae923f8e056",
            "4e32f7e8a141476e872cb4c84ab5a5ab",
            "626ee1b7094c45f7877ad0ab4140f93a",
            "d948b3d08b2343a59326e40bfcc7801c",
            "c8d23a7afb9f4d5bbefbf22491ff68d8",
            "d48194b5c60e4ade9fe7992486c7997b",
            "56c3fab0cd47480cb7fabde8b59e58da",
            "02e20a885a85498787a90e2abbe50901",
            "17364f9dbd7a4499920b9652a37b4ba7",
            "3f2199d98daf4bb5a98d2f42026e92af",
            "4ecf143922ad4bdc9fbb59f94bbbe8f7",
            "a13cff4a020a47249d45f970f67963b2",
            "3ae7c11c59fb49a6ac5fb06f6f662d7f",
            "a53701bf3d31489d9ba0a594e773a127",
            "43db4033708e405bbaac3043557fc67b",
            "50af135a6c7340239c23c43a16d68e41",
            "891664c92fa647c2a8780b53b23bc2e3",
            "6e2e21bacead43bcbdef15a1f7600628",
            "5e8d9eb645f14885a2059d472b3ad389",
            "cb8fe75f9c1c45078313dba7c119560f",
            "3f6280279be14c29a2227516b3f95c3d",
            "282e26863cbd48b78b685ce98f2d3d01",
            "3c8288d399274896a4c2cf8797328306",
            "b351da87fef745cfa2c4081b36eb4595",
            "d2729ee404b94c119786518e3f159f46",
            "6908eefefa294f0bb67319dc60b0444c",
            "72c0c2b99a4049408f3af31717934aaf",
            "650f64cb5aea457ca647f2560ef749d2",
            "3efa43d6c21143cf95ea97bc1d6faf42",
            "8b3a7cb0edf74e60b5dd466e4fb6491d",
            "343b5e768e844c7c91b6f8e51efff519",
            "13e66a6aa44544a986c64d969ea3656c",
            "cdb9e34a04e8471ba220ae225a54f548",
            "e1542a5d4a3b4cbdbd0aa5d9f037d0e3",
            "9b23a9c40abb4e13b86bd92fcff4533a",
            "522709d08a0249f79dae78dd1c07695a",
            "59768eb289ca44978c88af761b58a682",
            "8455a80146104a03b137d679b2b6f049",
            "37695595dfd84efe9b2b3ebdab7bca75",
            "d85b0757daa5410c8642ef0fc0895b2f",
            "060fdbd9ddb847f78120a226a171a7b4",
            "22790dde51dd4dc086a56e9f2854a0c0",
            "c3ea527d0fd64477a18ce524e7c07730",
            "a2c1975ac67042fdbc880c8307665e5e",
            "e938a17d015b4a9e8d9847227d1e53c8",
            "0be087f4eea14d1cb50a4a874cc4fcee",
            "769c0eb2a94f43b8866ef9cad6182ea3",
            "3dc3f4ca3fad4d43808a1e2a8563c9d4",
            "cd24f6c5831f4029b2263d465f7218eb",
            "31d273e9dcc0473ab762aafc60d209b2",
            "7fffc7d69dde4b1dab78b969e26ba041",
            "4c0e5c3d208b4ad4a6df32215bea1b0b",
            "858bacde8b1a4862abf057b2a2f9d418",
            "782d9eda6ac344768838b31c13dcb9fd"
          ]
        },
        "outputId": "6745c059-7279-4804-9390-56291ae1f0b7"
      },
      "source": [
        "import tensorflow_datasets as tfds\n",
        "imdb, info = tfds.load(\"imdb_reviews\", with_info=True, as_supervised=True)"
      ],
      "execution_count": 2,
      "outputs": [
        {
          "output_type": "stream",
          "text": [
            "\u001b[1mDownloading and preparing dataset imdb_reviews/plain_text/1.0.0 (download: 80.23 MiB, generated: Unknown size, total: 80.23 MiB) to /root/tensorflow_datasets/imdb_reviews/plain_text/1.0.0...\u001b[0m\n"
          ],
          "name": "stdout"
        },
        {
          "output_type": "display_data",
          "data": {
            "application/vnd.jupyter.widget-view+json": {
              "model_id": "8bde644143a346579205fa1c2b5502b3",
              "version_minor": 0,
              "version_major": 2
            },
            "text/plain": [
              "HBox(children=(FloatProgress(value=1.0, bar_style='info', description='Dl Completed...', max=1.0, style=Progre…"
            ]
          },
          "metadata": {
            "tags": []
          }
        },
        {
          "output_type": "display_data",
          "data": {
            "application/vnd.jupyter.widget-view+json": {
              "model_id": "bc28d01f63ab463d89f1fa7c33e3780d",
              "version_minor": 0,
              "version_major": 2
            },
            "text/plain": [
              "HBox(children=(FloatProgress(value=1.0, bar_style='info', description='Dl Size...', max=1.0, style=ProgressSty…"
            ]
          },
          "metadata": {
            "tags": []
          }
        },
        {
          "output_type": "stream",
          "text": [
            "\n",
            "\n",
            "\n",
            "\n"
          ],
          "name": "stdout"
        },
        {
          "output_type": "display_data",
          "data": {
            "application/vnd.jupyter.widget-view+json": {
              "model_id": "56c3fab0cd47480cb7fabde8b59e58da",
              "version_minor": 0,
              "version_major": 2
            },
            "text/plain": [
              "HBox(children=(FloatProgress(value=1.0, bar_style='info', max=1.0), HTML(value='')))"
            ]
          },
          "metadata": {
            "tags": []
          }
        },
        {
          "output_type": "stream",
          "text": [
            "\rShuffling and writing examples to /root/tensorflow_datasets/imdb_reviews/plain_text/1.0.0.incomplete63Y1GZ/imdb_reviews-train.tfrecord\n"
          ],
          "name": "stdout"
        },
        {
          "output_type": "display_data",
          "data": {
            "application/vnd.jupyter.widget-view+json": {
              "model_id": "43db4033708e405bbaac3043557fc67b",
              "version_minor": 0,
              "version_major": 2
            },
            "text/plain": [
              "HBox(children=(FloatProgress(value=0.0, max=25000.0), HTML(value='')))"
            ]
          },
          "metadata": {
            "tags": []
          }
        },
        {
          "output_type": "stream",
          "text": [
            "\r"
          ],
          "name": "stdout"
        },
        {
          "output_type": "display_data",
          "data": {
            "application/vnd.jupyter.widget-view+json": {
              "model_id": "3c8288d399274896a4c2cf8797328306",
              "version_minor": 0,
              "version_major": 2
            },
            "text/plain": [
              "HBox(children=(FloatProgress(value=1.0, bar_style='info', max=1.0), HTML(value='')))"
            ]
          },
          "metadata": {
            "tags": []
          }
        },
        {
          "output_type": "stream",
          "text": [
            "\rShuffling and writing examples to /root/tensorflow_datasets/imdb_reviews/plain_text/1.0.0.incomplete63Y1GZ/imdb_reviews-test.tfrecord\n"
          ],
          "name": "stdout"
        },
        {
          "output_type": "display_data",
          "data": {
            "application/vnd.jupyter.widget-view+json": {
              "model_id": "343b5e768e844c7c91b6f8e51efff519",
              "version_minor": 0,
              "version_major": 2
            },
            "text/plain": [
              "HBox(children=(FloatProgress(value=0.0, max=25000.0), HTML(value='')))"
            ]
          },
          "metadata": {
            "tags": []
          }
        },
        {
          "output_type": "stream",
          "text": [
            "\r"
          ],
          "name": "stdout"
        },
        {
          "output_type": "display_data",
          "data": {
            "application/vnd.jupyter.widget-view+json": {
              "model_id": "37695595dfd84efe9b2b3ebdab7bca75",
              "version_minor": 0,
              "version_major": 2
            },
            "text/plain": [
              "HBox(children=(FloatProgress(value=1.0, bar_style='info', max=1.0), HTML(value='')))"
            ]
          },
          "metadata": {
            "tags": []
          }
        },
        {
          "output_type": "stream",
          "text": [
            "\rShuffling and writing examples to /root/tensorflow_datasets/imdb_reviews/plain_text/1.0.0.incomplete63Y1GZ/imdb_reviews-unsupervised.tfrecord\n"
          ],
          "name": "stdout"
        },
        {
          "output_type": "display_data",
          "data": {
            "application/vnd.jupyter.widget-view+json": {
              "model_id": "769c0eb2a94f43b8866ef9cad6182ea3",
              "version_minor": 0,
              "version_major": 2
            },
            "text/plain": [
              "HBox(children=(FloatProgress(value=0.0, max=50000.0), HTML(value='')))"
            ]
          },
          "metadata": {
            "tags": []
          }
        },
        {
          "output_type": "stream",
          "text": [
            "\u001b[1mDataset imdb_reviews downloaded and prepared to /root/tensorflow_datasets/imdb_reviews/plain_text/1.0.0. Subsequent calls will reuse this data.\u001b[0m\n"
          ],
          "name": "stdout"
        }
      ]
    },
    {
      "cell_type": "code",
      "metadata": {
        "id": "-hY1GsD2TDXY",
        "colab_type": "code",
        "colab": {}
      },
      "source": [
        "import numpy as np\n",
        "\n",
        "train_data, test_data = imdb['train'],imdb['test']"
      ],
      "execution_count": 3,
      "outputs": []
    },
    {
      "cell_type": "code",
      "metadata": {
        "id": "wXgsgOZtTq5E",
        "colab_type": "code",
        "colab": {}
      },
      "source": [
        "training_sentences =[]\n",
        "training_labels = []\n",
        "\n",
        "testing_sentences = []\n",
        "testing_labels = []\n",
        "\n",
        "for sentence,label in train_data:\n",
        "  #sentence(byte) inside tensor -> get the sentence out of tensor -> change it to utf-8\n",
        "  training_sentences.append((sentence.numpy()).decode('utf8'))\n",
        "  training_labels.append(label.numpy())\n",
        "\n",
        "for s,l in test_data:\n",
        "  testing_sentences.append((s.numpy()).decode('utf8'))\n",
        "  testing_labels.append(l.numpy())\n",
        "\n",
        "training_labels_final = np.array(training_labels)\n",
        "testing_labels_final = np.array(testing_labels)"
      ],
      "execution_count": 6,
      "outputs": []
    },
    {
      "cell_type": "markdown",
      "metadata": {
        "id": "TkqYKXLZVuEk",
        "colab_type": "text"
      },
      "source": [
        "#Tokenizing"
      ]
    },
    {
      "cell_type": "code",
      "metadata": {
        "id": "2_i_0eKGV1HV",
        "colab_type": "code",
        "colab": {}
      },
      "source": [
        "from tensorflow.keras.preprocessing.text import Tokenizer\n",
        "from tensorflow.keras.preprocessing.sequence import pad_sequences\n",
        "\n",
        "#Tokeninzing \n",
        "vocab_size , oov_token = 10000, '<OOV>'\n",
        "tokenizer = Tokenizer(num_words = vocab_size, oov_token= oov_token)\n",
        "tokenizer.fit_on_texts(training_sentences)\n",
        "word_index = tokenizer.word_index\n",
        "\n",
        "#Forming Sequences \n",
        "max_length = 120\n",
        "trunc_type ='post'\n",
        "sequences= tokenizer.texts_to_sequences(training_sentences)\n",
        "padded = pad_sequences(sequences,maxlen=max_length, truncating=trunc_type)\n",
        "testing_sequences = tokenizer.texts_to_sequences(testing_sentences)\n",
        "testing_padded = pad_sequences(testing_sequences, maxlen=max_length)\n"
      ],
      "execution_count": 7,
      "outputs": []
    },
    {
      "cell_type": "markdown",
      "metadata": {
        "id": "BLXoz9DZYkV8",
        "colab_type": "text"
      },
      "source": [
        "#Visualizing the data"
      ]
    },
    {
      "cell_type": "code",
      "metadata": {
        "id": "ERkQQCwtYCrm",
        "colab_type": "code",
        "colab": {}
      },
      "source": [
        "#trick: dict() takes a tuple list eg.[(key,value)] and intelligentlt converts into a dict\n",
        "reverse_word_index = dict([(value,key) for (key,value) in word_index.items()])"
      ],
      "execution_count": 8,
      "outputs": []
    },
    {
      "cell_type": "code",
      "metadata": {
        "id": "kjB3nhIuZD2U",
        "colab_type": "code",
        "colab": {
          "base_uri": "https://localhost:8080/",
          "height": 71
        },
        "outputId": "fdd30465-d335-4f92-8db9-895ff051722e"
      },
      "source": [
        "def decode_review(text):\n",
        "  return ' '.join([reverse_word_index.get(i, '?') for i in text])\n",
        "\n",
        "print(decode_review(padded[3]))\n",
        "print(training_sentences[3])"
      ],
      "execution_count": 9,
      "outputs": [
        {
          "output_type": "stream",
          "text": [
            "? ? ? ? ? ? ? ? ? ? ? ? ? ? ? ? ? ? ? ? ? ? ? ? ? ? ? ? ? ? ? this is the kind of film for a snowy sunday afternoon when the rest of the world can go ahead with its own business as you <OOV> into a big arm chair and <OOV> for a couple of hours wonderful performances from cher and nicolas cage as always gently row the plot along there are no <OOV> to cross no dangerous waters just a warm and witty <OOV> through new york life at its best a family film in every sense and one that deserves the praise it received\n",
            "This is the kind of film for a snowy Sunday afternoon when the rest of the world can go ahead with its own business as you descend into a big arm-chair and mellow for a couple of hours. Wonderful performances from Cher and Nicolas Cage (as always) gently row the plot along. There are no rapids to cross, no dangerous waters, just a warm and witty paddle through New York life at its best. A family film in every sense and one that deserves the praise it received.\n"
          ],
          "name": "stdout"
        }
      ]
    },
    {
      "cell_type": "markdown",
      "metadata": {
        "id": "n80j82RIbZUb",
        "colab_type": "text"
      },
      "source": [
        "#Model"
      ]
    },
    {
      "cell_type": "markdown",
      "metadata": {
        "id": "Pu1zhXKjcmXn",
        "colab_type": "text"
      },
      "source": [
        "What is an embedding layer?\n",
        "![image.png](data:image/png;base64,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)"
      ]
    },
    {
      "cell_type": "code",
      "metadata": {
        "id": "ZHlwxec7Z3IO",
        "colab_type": "code",
        "colab": {
          "base_uri": "https://localhost:8080/",
          "height": 289
        },
        "outputId": "dbee1ece-16d4-4483-cf89-cf859973a1c2"
      },
      "source": [
        "embedding_dim = 16\n",
        "model = tf.keras.Sequential([\n",
        "                             tf.keras.layers.Embedding(vocab_size,embedding_dim,input_length= max_length),\n",
        "                             tf.keras.layers.Flatten(),\n",
        "                             tf.keras.layers.Dense(6,activation='relu'),\n",
        "                             tf.keras.layers.Dense(1,activation='sigmoid')\n",
        "])\n",
        "model.compile(loss='binary_crossentropy', optimizer='adam', metrics = ['accuracy'])\n",
        "model.summary()"
      ],
      "execution_count": 10,
      "outputs": [
        {
          "output_type": "stream",
          "text": [
            "Model: \"sequential\"\n",
            "_________________________________________________________________\n",
            "Layer (type)                 Output Shape              Param #   \n",
            "=================================================================\n",
            "embedding (Embedding)        (None, 120, 16)           160000    \n",
            "_________________________________________________________________\n",
            "flatten (Flatten)            (None, 1920)              0         \n",
            "_________________________________________________________________\n",
            "dense (Dense)                (None, 6)                 11526     \n",
            "_________________________________________________________________\n",
            "dense_1 (Dense)              (None, 1)                 7         \n",
            "=================================================================\n",
            "Total params: 171,533\n",
            "Trainable params: 171,533\n",
            "Non-trainable params: 0\n",
            "_________________________________________________________________\n"
          ],
          "name": "stdout"
        }
      ]
    },
    {
      "cell_type": "code",
      "metadata": {
        "id": "aBoLFKXDeRN2",
        "colab_type": "code",
        "colab": {
          "base_uri": "https://localhost:8080/",
          "height": 374
        },
        "outputId": "e86b24c4-e39d-4d96-a8cf-5c74bcaf919a"
      },
      "source": [
        "num_epochs = 10\n",
        "model.fit(padded,training_labels_final,epochs=num_epochs,validation_data=(testing_padded,testing_labels_final))"
      ],
      "execution_count": 11,
      "outputs": [
        {
          "output_type": "stream",
          "text": [
            "Epoch 1/10\n",
            "782/782 [==============================] - 8s 11ms/step - loss: 0.4888 - accuracy: 0.7446 - val_loss: 0.3440 - val_accuracy: 0.8472\n",
            "Epoch 2/10\n",
            "782/782 [==============================] - 7s 10ms/step - loss: 0.2429 - accuracy: 0.9060 - val_loss: 0.3723 - val_accuracy: 0.8385\n",
            "Epoch 3/10\n",
            "782/782 [==============================] - 7s 10ms/step - loss: 0.1004 - accuracy: 0.9726 - val_loss: 0.4447 - val_accuracy: 0.8324\n",
            "Epoch 4/10\n",
            "782/782 [==============================] - 7s 9ms/step - loss: 0.0255 - accuracy: 0.9965 - val_loss: 0.5291 - val_accuracy: 0.8276\n",
            "Epoch 5/10\n",
            "782/782 [==============================] - 7s 9ms/step - loss: 0.0060 - accuracy: 0.9995 - val_loss: 0.5925 - val_accuracy: 0.8277\n",
            "Epoch 6/10\n",
            "782/782 [==============================] - 8s 11ms/step - loss: 0.0019 - accuracy: 1.0000 - val_loss: 0.6525 - val_accuracy: 0.8266\n",
            "Epoch 7/10\n",
            "782/782 [==============================] - 8s 11ms/step - loss: 9.2147e-04 - accuracy: 1.0000 - val_loss: 0.6892 - val_accuracy: 0.8287\n",
            "Epoch 8/10\n",
            "782/782 [==============================] - 8s 10ms/step - loss: 5.1563e-04 - accuracy: 1.0000 - val_loss: 0.7314 - val_accuracy: 0.8294\n",
            "Epoch 9/10\n",
            "782/782 [==============================] - 7s 10ms/step - loss: 2.8372e-04 - accuracy: 1.0000 - val_loss: 0.7720 - val_accuracy: 0.8292\n",
            "Epoch 10/10\n",
            "782/782 [==============================] - 8s 10ms/step - loss: 1.7353e-04 - accuracy: 1.0000 - val_loss: 0.8083 - val_accuracy: 0.8296\n"
          ],
          "name": "stdout"
        },
        {
          "output_type": "execute_result",
          "data": {
            "text/plain": [
              "<tensorflow.python.keras.callbacks.History at 0x7f244bc72438>"
            ]
          },
          "metadata": {
            "tags": []
          },
          "execution_count": 11
        }
      ]
    },
    {
      "cell_type": "code",
      "metadata": {
        "id": "TCivgRQ_ex8V",
        "colab_type": "code",
        "colab": {}
      },
      "source": [
        "reverse_word_index"
      ],
      "execution_count": null,
      "outputs": []
    },
    {
      "cell_type": "markdown",
      "metadata": {
        "id": "R-fHxc2vhsaB",
        "colab_type": "text"
      },
      "source": [
        "#Visualizing the embedding"
      ]
    },
    {
      "cell_type": "markdown",
      "metadata": {
        "id": "rl2soCGgxMc8",
        "colab_type": "text"
      },
      "source": [
        "https://projector.tensorflow.org/"
      ]
    },
    {
      "cell_type": "code",
      "metadata": {
        "id": "3WheviFahwfv",
        "colab_type": "code",
        "colab": {
          "base_uri": "https://localhost:8080/",
          "height": 34
        },
        "outputId": "45fd3cdc-05f6-4572-b2c5-108c0ac3af6e"
      },
      "source": [
        "e = model.layers[0] \n",
        "weights  = e.get_weights()[0] #returns list containg weight [w]\n",
        "print(weights.shape)\n",
        "#Recall: Embbeding matrix contains word to featuers (WxF)"
      ],
      "execution_count": 17,
      "outputs": [
        {
          "output_type": "stream",
          "text": [
            "(10000, 16)\n"
          ],
          "name": "stdout"
        }
      ]
    },
    {
      "cell_type": "code",
      "metadata": {
        "id": "MCM0jydeh89g",
        "colab_type": "code",
        "colab": {}
      },
      "source": [
        "import io \n",
        "\n",
        "#Sample Embedding\n",
        "\n",
        "out_v = io.open('vecs.tsv','w',encoding='utf-8')\n",
        "out_m = io.open('meta.tsv','w', encoding='utf-8')\n",
        "for word_num in range(1,vocab_size):\n",
        "  #get the word and the embedding from the matrix\n",
        "  word = reverse_word_index[word_num]\n",
        "  embeddings = weights[word_num]\n",
        "  out_m.write(word+\"\\n\")\n",
        "  out_v.write('\\t'.join([str(x) for x in embeddings]) + \"\\n\")\n",
        "out_v.close()\n",
        "out_m.close()"
      ],
      "execution_count": 23,
      "outputs": []
    },
    {
      "cell_type": "code",
      "metadata": {
        "id": "Y5YaSHzAoiXQ",
        "colab_type": "code",
        "colab": {
          "base_uri": "https://localhost:8080/",
          "height": 52
        },
        "outputId": "46302247-7271-43ff-b600-83d364ef692f"
      },
      "source": [
        "'\\t'.join([str(x) for x in embeddings])"
      ],
      "execution_count": 22,
      "outputs": [
        {
          "output_type": "execute_result",
          "data": {
            "application/vnd.google.colaboratory.intrinsic+json": {
              "type": "string"
            },
            "text/plain": [
              "'-0.022748798\\t-0.030574465\\t0.009370636\\t0.015312464\\t0.02460502\\t-0.02596873\\t-0.06260167\\t0.041383598\\t-0.015380285\\t0.027514363\\t0.06019646\\t-0.044853553\\t0.013707537\\t-0.015133285\\t-0.039704688\\t-0.03603636'"
            ]
          },
          "metadata": {
            "tags": []
          },
          "execution_count": 22
        }
      ]
    },
    {
      "cell_type": "code",
      "metadata": {
        "id": "miKd-wutolyG",
        "colab_type": "code",
        "colab": {
          "base_uri": "https://localhost:8080/",
          "height": 17
        },
        "outputId": "7ad2b0f6-ae6c-4582-a685-e498a3687bec"
      },
      "source": [
        "#Download the meta and vec files \n",
        "try:\n",
        "  from google.colab import files \n",
        "except ImportError:\n",
        "  pass\n",
        "else:\n",
        "  files.download('vecs.tsv')\n",
        "  files.download('meta.tsv')"
      ],
      "execution_count": 24,
      "outputs": [
        {
          "output_type": "display_data",
          "data": {
            "application/javascript": [
              "\n",
              "    async function download(id, filename, size) {\n",
              "      if (!google.colab.kernel.accessAllowed) {\n",
              "        return;\n",
              "      }\n",
              "      const div = document.createElement('div');\n",
              "      const label = document.createElement('label');\n",
              "      label.textContent = `Downloading \"${filename}\": `;\n",
              "      div.appendChild(label);\n",
              "      const progress = document.createElement('progress');\n",
              "      progress.max = size;\n",
              "      div.appendChild(progress);\n",
              "      document.body.appendChild(div);\n",
              "\n",
              "      const buffers = [];\n",
              "      let downloaded = 0;\n",
              "\n",
              "      const channel = await google.colab.kernel.comms.open(id);\n",
              "      // Send a message to notify the kernel that we're ready.\n",
              "      channel.send({})\n",
              "\n",
              "      for await (const message of channel.messages) {\n",
              "        // Send a message to notify the kernel that we're ready.\n",
              "        channel.send({})\n",
              "        if (message.buffers) {\n",
              "          for (const buffer of message.buffers) {\n",
              "            buffers.push(buffer);\n",
              "            downloaded += buffer.byteLength;\n",
              "            progress.value = downloaded;\n",
              "          }\n",
              "        }\n",
              "      }\n",
              "      const blob = new Blob(buffers, {type: 'application/binary'});\n",
              "      const a = document.createElement('a');\n",
              "      a.href = window.URL.createObjectURL(blob);\n",
              "      a.download = filename;\n",
              "      div.appendChild(a);\n",
              "      a.click();\n",
              "      div.remove();\n",
              "    }\n",
              "  "
            ],
            "text/plain": [
              "<IPython.core.display.Javascript object>"
            ]
          },
          "metadata": {
            "tags": []
          }
        },
        {
          "output_type": "display_data",
          "data": {
            "application/javascript": [
              "download(\"download_0f8615a5-859e-4e7f-acad-878961f55dec\", \"vecs.tsv\", 1910207)"
            ],
            "text/plain": [
              "<IPython.core.display.Javascript object>"
            ]
          },
          "metadata": {
            "tags": []
          }
        },
        {
          "output_type": "display_data",
          "data": {
            "application/javascript": [
              "\n",
              "    async function download(id, filename, size) {\n",
              "      if (!google.colab.kernel.accessAllowed) {\n",
              "        return;\n",
              "      }\n",
              "      const div = document.createElement('div');\n",
              "      const label = document.createElement('label');\n",
              "      label.textContent = `Downloading \"${filename}\": `;\n",
              "      div.appendChild(label);\n",
              "      const progress = document.createElement('progress');\n",
              "      progress.max = size;\n",
              "      div.appendChild(progress);\n",
              "      document.body.appendChild(div);\n",
              "\n",
              "      const buffers = [];\n",
              "      let downloaded = 0;\n",
              "\n",
              "      const channel = await google.colab.kernel.comms.open(id);\n",
              "      // Send a message to notify the kernel that we're ready.\n",
              "      channel.send({})\n",
              "\n",
              "      for await (const message of channel.messages) {\n",
              "        // Send a message to notify the kernel that we're ready.\n",
              "        channel.send({})\n",
              "        if (message.buffers) {\n",
              "          for (const buffer of message.buffers) {\n",
              "            buffers.push(buffer);\n",
              "            downloaded += buffer.byteLength;\n",
              "            progress.value = downloaded;\n",
              "          }\n",
              "        }\n",
              "      }\n",
              "      const blob = new Blob(buffers, {type: 'application/binary'});\n",
              "      const a = document.createElement('a');\n",
              "      a.href = window.URL.createObjectURL(blob);\n",
              "      a.download = filename;\n",
              "      div.appendChild(a);\n",
              "      a.click();\n",
              "      div.remove();\n",
              "    }\n",
              "  "
            ],
            "text/plain": [
              "<IPython.core.display.Javascript object>"
            ]
          },
          "metadata": {
            "tags": []
          }
        },
        {
          "output_type": "display_data",
          "data": {
            "application/javascript": [
              "download(\"download_7e0ebd5b-0796-4624-8f57-689957c1fbe4\", \"meta.tsv\", 76186)"
            ],
            "text/plain": [
              "<IPython.core.display.Javascript object>"
            ]
          },
          "metadata": {
            "tags": []
          }
        }
      ]
    },
    {
      "cell_type": "code",
      "metadata": {
        "id": "M3iyt0n4pwXN",
        "colab_type": "code",
        "colab": {}
      },
      "source": [
        ""
      ],
      "execution_count": null,
      "outputs": []
    }
  ]
}