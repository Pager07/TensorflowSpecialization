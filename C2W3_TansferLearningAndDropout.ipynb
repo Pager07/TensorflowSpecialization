{
  "nbformat": 4,
  "nbformat_minor": 0,
  "metadata": {
    "colab": {
      "name": "C2W3-TansferLearningAndDropout.ipynb",
      "provenance": [],
      "authorship_tag": "ABX9TyO8bVAYpKy2pDsLo9DsKrA+",
      "include_colab_link": true
    },
    "kernelspec": {
      "name": "python3",
      "display_name": "Python 3"
    },
    "accelerator": "GPU"
  },
  "cells": [
    {
      "cell_type": "markdown",
      "metadata": {
        "id": "view-in-github",
        "colab_type": "text"
      },
      "source": [
        "<a href=\"https://colab.research.google.com/github/Pager07/TensorflowSpecialization/blob/master/C2W3_TansferLearningAndDropout.ipynb\" target=\"_parent\"><img src=\"https://colab.research.google.com/assets/colab-badge.svg\" alt=\"Open In Colab\"/></a>"
      ]
    },
    {
      "cell_type": "markdown",
      "metadata": {
        "id": "9wm-sGsJyKTE",
        "colab_type": "text"
      },
      "source": [
        "#Downloading Inception Network Weights"
      ]
    },
    {
      "cell_type": "code",
      "metadata": {
        "id": "zY3dFhT5x32b",
        "colab_type": "code",
        "colab": {
          "base_uri": "https://localhost:8080/",
          "height": 204
        },
        "outputId": "565b7d87-02c8-4e67-8177-d18df0bd962c"
      },
      "source": [
        "!wget --no-check-certificate \\\n",
        "    https://storage.googleapis.com/mledu-datasets/inception_v3_weights_tf_dim_ordering_tf_kernels_notop.h5 \\\n",
        "    -O /tmp/inception_v3_weights_tf_dim_ordering_tf_kernels_notop.h5"
      ],
      "execution_count": 1,
      "outputs": [
        {
          "output_type": "stream",
          "text": [
            "--2020-07-24 19:22:38--  https://storage.googleapis.com/mledu-datasets/inception_v3_weights_tf_dim_ordering_tf_kernels_notop.h5\n",
            "Resolving storage.googleapis.com (storage.googleapis.com)... 64.233.167.128, 64.233.166.128, 108.177.15.128, ...\n",
            "Connecting to storage.googleapis.com (storage.googleapis.com)|64.233.167.128|:443... connected.\n",
            "HTTP request sent, awaiting response... 200 OK\n",
            "Length: 87910968 (84M) [application/x-hdf]\n",
            "Saving to: ‘/tmp/inception_v3_weights_tf_dim_ordering_tf_kernels_notop.h5’\n",
            "\n",
            "/tmp/inception_v3_w 100%[===================>]  83.84M  46.8MB/s    in 1.8s    \n",
            "\n",
            "2020-07-24 19:22:41 (46.8 MB/s) - ‘/tmp/inception_v3_weights_tf_dim_ordering_tf_kernels_notop.h5’ saved [87910968/87910968]\n",
            "\n"
          ],
          "name": "stdout"
        }
      ]
    },
    {
      "cell_type": "markdown",
      "metadata": {
        "id": "yHBAbi8IPtCi",
        "colab_type": "text"
      },
      "source": [
        "#Transfer Learning"
      ]
    },
    {
      "cell_type": "code",
      "metadata": {
        "id": "5avcaH-uyOnf",
        "colab_type": "code",
        "colab": {
          "base_uri": "https://localhost:8080/",
          "height": 34
        },
        "outputId": "e525c1ad-e3a7-4d4b-8b2f-1ba0a5b051b0"
      },
      "source": [
        "import os \n",
        "from tensorflow.keras import layers \n",
        "from tensorflow.keras import Model\n",
        "from tensorflow.keras.applications.inception_v3 import InceptionV3\n",
        "\n",
        "local_weights_file = '/tmp/inception_v3_weights_tf_dim_ordering_tf_kernels_notop.h5'\n",
        "\n",
        "pre_trained_model = InceptionV3(input_shape=(150,150,3),\n",
        "                                include_top = False, #inception has some Dense layer at the start before conv layer. We dont want it \n",
        "                                weights  = None)\n",
        "\n",
        "pre_trained_model.load_weights(local_weights_file)\n",
        "\n",
        "for layer in pre_trained_model.layers: #lock all the layers \n",
        "  layer.trainable = False\n",
        "\n",
        "#pre_trained_model.summary()\n",
        "\n",
        "last_layer = pre_trained_model.get_layer('mixed7')\n",
        "print('last layer output shape: ', last_layer.output_shape)\n",
        "last_output = last_layer.output\n"
      ],
      "execution_count": 2,
      "outputs": [
        {
          "output_type": "stream",
          "text": [
            "last layer output shape:  (None, 7, 7, 768)\n"
          ],
          "name": "stdout"
        }
      ]
    },
    {
      "cell_type": "code",
      "metadata": {
        "id": "_s8D_BTszxwk",
        "colab_type": "code",
        "colab": {}
      },
      "source": [
        "from tensorflow.keras.optimizers import RMSprop\n",
        "#We do not want to use the the dense layer at the end. We we make our own dense layer, \n",
        "#so that we can define new numbers prediction class\n",
        "x = layers.Flatten()(last_output)\n",
        "x = layers.Dense(units=1024, activation='relu')(x)\n",
        "x = layers.Dropout(0.2)(x)\n",
        "x = layers.Dense(units=1, activation='sigmoid')(x)\n",
        "\n",
        "model = Model(pre_trained_model.input, x )\n",
        "model.compile(loss='binary_crossentropy',optimizer=RMSprop(lr=0.0001),\n",
        "              metrics = ['accuracy'])"
      ],
      "execution_count": 3,
      "outputs": []
    },
    {
      "cell_type": "markdown",
      "metadata": {
        "id": "tVpVKmPdPx7a",
        "colab_type": "text"
      },
      "source": [
        "#Data Preporcessing"
      ]
    },
    {
      "cell_type": "code",
      "metadata": {
        "id": "YPf7_fJp14sn",
        "colab_type": "code",
        "colab": {
          "base_uri": "https://localhost:8080/",
          "height": 238
        },
        "outputId": "f375cd25-791b-4438-d240-e1749924d9b6"
      },
      "source": [
        "!wget --no-check-certificate \\\n",
        "        https://storage.googleapis.com/mledu-datasets/cats_and_dogs_filtered.zip \\\n",
        "       -O /tmp/cats_and_dogs_filtered.zip\n",
        "\n",
        "from tensorflow.keras.preprocessing.image import ImageDataGenerator\n",
        "\n",
        "import os\n",
        "import zipfile\n",
        "\n",
        "local_zip = '//tmp/cats_and_dogs_filtered.zip'\n",
        "\n",
        "zip_ref = zipfile.ZipFile(local_zip, 'r')\n",
        "\n",
        "zip_ref.extractall('/tmp')\n",
        "zip_ref.close()\n",
        "\n",
        "# Define our example directories and files\n",
        "base_dir = '/tmp/cats_and_dogs_filtered'\n",
        "\n",
        "train_dir = os.path.join( base_dir, 'train')\n",
        "validation_dir = os.path.join( base_dir, 'validation')\n",
        "\n",
        "\n",
        "train_cats_dir = os.path.join(train_dir, 'cats') # Directory with our training cat pictures\n",
        "train_dogs_dir = os.path.join(train_dir, 'dogs') # Directory with our training dog pictures\n",
        "validation_cats_dir = os.path.join(validation_dir, 'cats') # Directory with our validation cat pictures\n",
        "validation_dogs_dir = os.path.join(validation_dir, 'dogs')# Directory with our validation dog pictures\n",
        "\n",
        "train_cat_fnames = os.listdir(train_cats_dir)\n",
        "train_dog_fnames = os.listdir(train_dogs_dir)\n",
        "\n",
        "train_datagen = ImageDataGenerator(rescale=1/255,\n",
        "                                   rotation_range=40,\n",
        "                                   width_shift_range=0.2,\n",
        "                                   height_shift_range=0.2,\n",
        "                                   shear_range = 0.2,\n",
        "                                   zoom_range= 0.2,\n",
        "                                   horizontal_flip = True)\n",
        "validation_datagen = ImageDataGenerator(rescale= 1/255)\n",
        "\n",
        "train_generator = train_datagen.flow_from_directory(train_dir,\n",
        "                                                    target_size= (150,150),\n",
        "                                                    batch_size = 20,\n",
        "                                                    class_mode = 'binary')\n",
        "\n",
        "validation_generator = validation_datagen.flow_from_directory(validation_dir, \n",
        "                                                             target_size = (150,150),\n",
        "                                                             batch_size= 20,\n",
        "                                                             class_mode = 'binary')\n"
      ],
      "execution_count": 12,
      "outputs": [
        {
          "output_type": "stream",
          "text": [
            "--2020-07-24 19:30:57--  https://storage.googleapis.com/mledu-datasets/cats_and_dogs_filtered.zip\n",
            "Resolving storage.googleapis.com (storage.googleapis.com)... 64.233.166.128, 108.177.15.128, 173.194.76.128, ...\n",
            "Connecting to storage.googleapis.com (storage.googleapis.com)|64.233.166.128|:443... connected.\n",
            "HTTP request sent, awaiting response... 200 OK\n",
            "Length: 68606236 (65M) [application/zip]\n",
            "Saving to: ‘/tmp/cats_and_dogs_filtered.zip’\n",
            "\n",
            "\r          /tmp/cats   0%[                    ]       0  --.-KB/s               \r         /tmp/cats_  51%[=========>          ]  33.72M   169MB/s               \r        /tmp/cats_a  75%[==============>     ]  49.20M   123MB/s               \r/tmp/cats_and_dogs_ 100%[===================>]  65.43M   139MB/s    in 0.5s    \n",
            "\n",
            "2020-07-24 19:30:58 (139 MB/s) - ‘/tmp/cats_and_dogs_filtered.zip’ saved [68606236/68606236]\n",
            "\n",
            "Found 2000 images belonging to 2 classes.\n",
            "Found 1000 images belonging to 2 classes.\n"
          ],
          "name": "stdout"
        }
      ]
    },
    {
      "cell_type": "code",
      "metadata": {
        "id": "tdnPRS-6RNts",
        "colab_type": "code",
        "colab": {
          "base_uri": "https://localhost:8080/",
          "height": 697
        },
        "outputId": "907571b5-dbd8-40b0-f526-243f131ef0f2"
      },
      "source": [
        "history = model.fit(train_generator,\n",
        "                    steps_per_epoch = 100,\n",
        "                    epochs= 20,\n",
        "                    validation_data = validation_generator,\n",
        "                    validation_steps = 50,\n",
        "                    verbose=2)"
      ],
      "execution_count": 13,
      "outputs": [
        {
          "output_type": "stream",
          "text": [
            "Epoch 1/20\n",
            "100/100 - 23s - loss: 0.2291 - accuracy: 0.9155 - val_loss: 0.0876 - val_accuracy: 0.9600\n",
            "Epoch 2/20\n",
            "100/100 - 22s - loss: 0.1957 - accuracy: 0.9220 - val_loss: 0.1512 - val_accuracy: 0.9500\n",
            "Epoch 3/20\n",
            "100/100 - 21s - loss: 0.2095 - accuracy: 0.9275 - val_loss: 0.1160 - val_accuracy: 0.9620\n",
            "Epoch 4/20\n",
            "100/100 - 22s - loss: 0.1604 - accuracy: 0.9410 - val_loss: 0.1188 - val_accuracy: 0.9720\n",
            "Epoch 5/20\n",
            "100/100 - 21s - loss: 0.1940 - accuracy: 0.9365 - val_loss: 0.1277 - val_accuracy: 0.9630\n",
            "Epoch 6/20\n",
            "100/100 - 22s - loss: 0.1647 - accuracy: 0.9425 - val_loss: 0.0983 - val_accuracy: 0.9690\n",
            "Epoch 7/20\n",
            "100/100 - 21s - loss: 0.1620 - accuracy: 0.9455 - val_loss: 0.1154 - val_accuracy: 0.9720\n",
            "Epoch 8/20\n",
            "100/100 - 21s - loss: 0.1881 - accuracy: 0.9370 - val_loss: 0.0953 - val_accuracy: 0.9710\n",
            "Epoch 9/20\n",
            "100/100 - 22s - loss: 0.1495 - accuracy: 0.9515 - val_loss: 0.1190 - val_accuracy: 0.9700\n",
            "Epoch 10/20\n",
            "100/100 - 21s - loss: 0.1883 - accuracy: 0.9415 - val_loss: 0.1508 - val_accuracy: 0.9590\n",
            "Epoch 11/20\n",
            "100/100 - 22s - loss: 0.1590 - accuracy: 0.9480 - val_loss: 0.1056 - val_accuracy: 0.9690\n",
            "Epoch 12/20\n",
            "100/100 - 21s - loss: 0.1420 - accuracy: 0.9520 - val_loss: 0.1955 - val_accuracy: 0.9450\n",
            "Epoch 13/20\n",
            "100/100 - 21s - loss: 0.1488 - accuracy: 0.9565 - val_loss: 0.1200 - val_accuracy: 0.9680\n",
            "Epoch 14/20\n",
            "100/100 - 21s - loss: 0.1514 - accuracy: 0.9490 - val_loss: 0.1272 - val_accuracy: 0.9670\n",
            "Epoch 15/20\n",
            "100/100 - 21s - loss: 0.1355 - accuracy: 0.9540 - val_loss: 0.1519 - val_accuracy: 0.9620\n",
            "Epoch 16/20\n",
            "100/100 - 22s - loss: 0.1485 - accuracy: 0.9495 - val_loss: 0.1030 - val_accuracy: 0.9720\n",
            "Epoch 17/20\n",
            "100/100 - 21s - loss: 0.1284 - accuracy: 0.9565 - val_loss: 0.1255 - val_accuracy: 0.9680\n",
            "Epoch 18/20\n",
            "100/100 - 22s - loss: 0.1590 - accuracy: 0.9495 - val_loss: 0.1469 - val_accuracy: 0.9610\n",
            "Epoch 19/20\n",
            "100/100 - 21s - loss: 0.1266 - accuracy: 0.9520 - val_loss: 0.1334 - val_accuracy: 0.9670\n",
            "Epoch 20/20\n",
            "100/100 - 21s - loss: 0.1147 - accuracy: 0.9585 - val_loss: 0.1276 - val_accuracy: 0.9690\n"
          ],
          "name": "stdout"
        }
      ]
    },
    {
      "cell_type": "markdown",
      "metadata": {
        "id": "Ykx7SyLFR0MQ",
        "colab_type": "text"
      },
      "source": [
        "#Evaluation"
      ]
    },
    {
      "cell_type": "code",
      "metadata": {
        "id": "xBAQTd2DRy2r",
        "colab_type": "code",
        "colab": {
          "base_uri": "https://localhost:8080/",
          "height": 563
        },
        "outputId": "d1222d16-9328-4c7b-a3a2-5f66906d24b9"
      },
      "source": [
        "import matplotlib.pyplot as plt\n",
        "acc = history.history['accuracy']\n",
        "validation_acc = history.history['val_accuracy']\n",
        "loss = history.history['loss']\n",
        "validation_loss = history.history['val_loss']\n",
        "\n",
        "epochs = range(len(acc))\n",
        "\n",
        "plt.plot(epochs, acc,'r',label='Training accuracy')\n",
        "plt.plot(epochs,validation_acc, 'b',label='Validation accuracy')\n",
        "plt.title('Training and Validation Accuracy')\n",
        "plt.legend(loc=0)\n",
        "\n",
        "plt.figure()\n",
        "plt.plot(epochs,loss,'r',label='Training loss')\n",
        "plt.plot(epochs,validation_loss,'b',label='Validation loss')\n",
        "plt.legend(loc=0)\n",
        "plt.figure()"
      ],
      "execution_count": 15,
      "outputs": [
        {
          "output_type": "execute_result",
          "data": {
            "text/plain": [
              "<Figure size 432x288 with 0 Axes>"
            ]
          },
          "metadata": {
            "tags": []
          },
          "execution_count": 15
        },
        {
          "output_type": "display_data",
          "data": {
            "image/png": "[encoded data removed]",
            "text/plain": [
              "<Figure size 432x288 with 1 Axes>"
            ]
          },
          "metadata": {
            "tags": [],
            "needs_background": "light"
          }
        },
        {
          "output_type": "display_data",
          "data": {
            "image/png": "[encoded data removed]",
            "text/plain": [
              "<Figure size 432x288 with 1 Axes>"
            ]
          },
          "metadata": {
            "tags": [],
            "needs_background": "light"
          }
        },
        {
          "output_type": "display_data",
          "data": {
            "text/plain": [
              "<Figure size 432x288 with 0 Axes>"
            ]
          },
          "metadata": {
            "tags": []
          }
        }
      ]
    },
    {
      "cell_type": "markdown",
      "metadata": {
        "id": "xQ93GJTRVlCL",
        "colab_type": "text"
      },
      "source": [
        "The validation acc and training acc are in sync. This is a good sign of not over fitting"
      ]
    },
    {
      "cell_type": "code",
      "metadata": {
        "id": "ATbP6_MBVV6z",
        "colab_type": "code",
        "colab": {}
      },
      "source": [
        ""
      ],
      "execution_count": null,
      "outputs": []
    }
  ]
}