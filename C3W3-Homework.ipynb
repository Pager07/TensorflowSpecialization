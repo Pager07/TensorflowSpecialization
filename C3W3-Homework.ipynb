{
  "nbformat": 4,
  "nbformat_minor": 0,
  "metadata": {
    "accelerator": "GPU",
    "colab": {
      "name": "C3W3-Homework.ipynb",
      "provenance": [],
      "toc_visible": true,
      "include_colab_link": true
    },
    "kernelspec": {
      "display_name": "Python 3",
      "name": "python3"
    }
  },
  "cells": [
    {
      "cell_type": "markdown",
      "metadata": {
        "id": "view-in-github",
        "colab_type": "text"
      },
      "source": [
        "<a href=\"https://colab.research.google.com/github/Pager07/TensorflowSpecialization/blob/master/C3W3-Homework.ipynb\" target=\"_parent\"><img src=\"https://colab.research.google.com/assets/colab-badge.svg\" alt=\"Open In Colab\"/></a>"
      ]
    },
    {
      "cell_type": "code",
      "metadata": {
        "id": "zX4Kg8DUTKWO",
        "colab_type": "code",
        "colab": {}
      },
      "source": [
        "#@title Licensed under the Apache License, Version 2.0 (the \"License\");\n",
        "# you may not use this file except in compliance with the License.\n",
        "# You may obtain a copy of the License at\n",
        "#\n",
        "# https://www.apache.org/licenses/LICENSE-2.0\n",
        "#\n",
        "# Unless required by applicable law or agreed to in writing, software\n",
        "# distributed under the License is distributed on an \"AS IS\" BASIS,\n",
        "# WITHOUT WARRANTIES OR CONDITIONS OF ANY KIND, either express or implied.\n",
        "# See the License for the specific language governing permissions and\n",
        "# limitations under the License."
      ],
      "execution_count": null,
      "outputs": []
    },
    {
      "cell_type": "code",
      "metadata": {
        "colab_type": "code",
        "id": "hmA6EzkQJ5jt",
        "colab": {}
      },
      "source": [
        "import json\n",
        "import tensorflow as tf\n",
        "import csv\n",
        "import random\n",
        "import numpy as np\n",
        "\n",
        "from tensorflow.keras.preprocessing.text import Tokenizer\n",
        "from tensorflow.keras.preprocessing.sequence import pad_sequences\n",
        "from tensorflow.keras.utils import to_categorical\n",
        "from tensorflow.keras import regularizers\n",
        "\n",
        "\n",
        "embedding_dim = 100\n",
        "max_length = 16\n",
        "trunc_type='post'\n",
        "padding_type='post'\n",
        "oov_tok = \"<OOV>\"\n",
        "#Your dataset size here. Experiment using smaller values (i.e. 16000), but don't forget to train on at least 160000 to see the best effects\n",
        "training_size= 160000\n",
        "test_portion=.1\n",
        "\n",
        "corpus = []\n"
      ],
      "execution_count": null,
      "outputs": []
    },
    {
      "cell_type": "code",
      "metadata": {
        "colab_type": "code",
        "id": "bM0l_dORKqE0",
        "colab": {
          "base_uri": "https://localhost:8080/",
          "height": 241
        },
        "outputId": "486751cb-8da7-4e89-f047-33268e8dbcbe"
      },
      "source": [
        "# Note that I cleaned the Stanford dataset to remove LATIN1 encoding to make it easier for Python CSV reader\n",
        "# You can do that yourself with:\n",
        "# iconv -f LATIN1 -t UTF8 training.1600000.processed.noemoticon.csv -o training_cleaned.csv\n",
        "# I then hosted it on my site to make it easier to use in this notebook\n",
        "\n",
        "!wget --no-check-certificate \\\n",
        "    https://storage.googleapis.com/laurencemoroney-blog.appspot.com/training_cleaned.csv \\\n",
        "    -O /tmp/training_cleaned.csv\n",
        "\n",
        "\n"
      ],
      "execution_count": null,
      "outputs": [
        {
          "output_type": "stream",
          "text": [
            "--2020-07-27 12:56:25--  https://storage.googleapis.com/laurencemoroney-blog.appspot.com/training_cleaned.csv\n",
            "Resolving storage.googleapis.com (storage.googleapis.com)... 172.217.204.128, 172.217.203.128, 173.194.216.128, ...\n",
            "Connecting to storage.googleapis.com (storage.googleapis.com)|172.217.204.128|:443... connected.\n",
            "HTTP request sent, awaiting response... 200 OK\n",
            "Length: 238942690 (228M) [application/octet-stream]\n",
            "Saving to: ‘/tmp/training_cleaned.csv’\n",
            "\n",
            "/tmp/training_clean 100%[===================>] 227.87M   129MB/s    in 1.8s    \n",
            "\n",
            "2020-07-27 12:56:27 (129 MB/s) - ‘/tmp/training_cleaned.csv’ saved [238942690/238942690]\n",
            "\n",
            "['0', '1467810369', 'Mon Apr 06 22:19:45 PDT 2009', 'NO_QUERY', '_TheSpecialOne_', \"@switchfoot http://twitpic.com/2y1zl - Awww, that's a bummer.  You shoulda got David Carr of Third Day to do it. ;D\"]\n"
          ],
          "name": "stdout"
        }
      ]
    },
    {
      "cell_type": "code",
      "metadata": {
        "id": "miZSQxocWLLN",
        "colab_type": "code",
        "colab": {}
      },
      "source": [
        "num_sentences = 0\n",
        "\n",
        "with open(\"/tmp/training_cleaned.csv\") as csvfile:\n",
        "    reader = csv.reader(csvfile, delimiter=',')\n",
        "    for row in reader:\n",
        "      # Your Code here. Create list items where the first item is the text, found in row[5], and the second is the label. \n",
        "      #Note that the label is a '0' or a '4' in the text. When it's the former, make\n",
        "      # your label to be 0, otherwise 1. Keep a count of the number of sentences in num_sentences\n",
        "        list_item=[]\n",
        "        # YOUR CODE HERE\n",
        "        label = int(row[0])\n",
        "        sentence = row[5]\n",
        "        if label == 4:\n",
        "          label = 1\n",
        "        list_item.append(sentence)\n",
        "        list_item.append(label)\n",
        "        num_sentences = num_sentences + 1\n",
        "        corpus.append(list_item)"
      ],
      "execution_count": null,
      "outputs": []
    },
    {
      "cell_type": "code",
      "metadata": {
        "colab_type": "code",
        "id": "3kxblBUjEUX-",
        "colab": {
          "base_uri": "https://localhost:8080/",
          "height": 88
        },
        "outputId": "3128437b-774a-468b-9060-2a711c81ab2d"
      },
      "source": [
        "print(num_sentences)\n",
        "print(len(corpus))\n",
        "print(corpus[1])\n",
        "\n",
        "# Expected Output:\n",
        "# 1600000\n",
        "# 1600000\n",
        "# [\"is upset that he can't update his Facebook by texting it... and might cry as a result  School today also. Blah!\", 0]"
      ],
      "execution_count": null,
      "outputs": [
        {
          "output_type": "stream",
          "text": [
            "1600000\n",
            "1600000\n",
            "[\"is upset that he can't update his Facebook by texting it... and might cry as a result  School today also. Blah!\", 0]\n"
          ],
          "name": "stdout"
        }
      ]
    },
    {
      "cell_type": "code",
      "metadata": {
        "colab_type": "code",
        "id": "ohOGz24lsNAD",
        "colab": {}
      },
      "source": [
        "sentences=[]\n",
        "labels=[]\n",
        "random.shuffle(corpus)\n",
        "for x in range(training_size):\n",
        "    sentences.append(corpus[x][0])\n",
        "    labels.append(corpus[x][1])\n",
        "\n",
        "\n",
        "\n",
        "tokenizer = Tokenizer()\n",
        "tokenizer.fit_on_texts(sentences)\n",
        "\n",
        "word_index = tokenizer.word_index\n",
        "vocab_size=len(word_index)\n",
        "\n",
        "sequences = tokenizer.texts_to_sequences(sentences)\n",
        "padded = pad_sequences(sequences,maxlen=max_length,padding=padding_type, \n",
        "                       truncating = trunc_type\n",
        "                       )\n",
        "\n",
        "split = int(test_portion * training_size)\n",
        "\n",
        "test_sequences = padded[:split,:]\n",
        "training_sequences = padded[split:,:]\n",
        "test_labels = labels[:split]\n",
        "training_labels = labels[split:]\n",
        "\n",
        "test_labels = np.array(test_labels)\n",
        "training_labels = np.array(training_labels)"
      ],
      "execution_count": null,
      "outputs": []
    },
    {
      "cell_type": "code",
      "metadata": {
        "colab_type": "code",
        "id": "gIrtRem1En3N",
        "colab": {
          "base_uri": "https://localhost:8080/",
          "height": 51
        },
        "outputId": "afa55deb-e268-44cf-c1cb-4f2cb611098f"
      },
      "source": [
        "print(vocab_size)\n",
        "print(word_index['i'])\n",
        "# Expected Output\n",
        "# 138858\n",
        "# 1"
      ],
      "execution_count": null,
      "outputs": [
        {
          "output_type": "stream",
          "text": [
            "138197\n",
            "1\n"
          ],
          "name": "stdout"
        }
      ]
    },
    {
      "cell_type": "code",
      "metadata": {
        "colab_type": "code",
        "id": "C1zdgJkusRh0",
        "colab": {
          "base_uri": "https://localhost:8080/",
          "height": 224
        },
        "outputId": "bc66f3a0-c6b2-4107-e822-18ad0ee7acb8"
      },
      "source": [
        "# Note this is the 100 dimension version of GloVe from Stanford\n",
        "# I unzipped and hosted it on my site to make this notebook easier\n",
        "!wget --no-check-certificate \\\n",
        "    https://storage.googleapis.com/laurencemoroney-blog.appspot.com/glove.6B.100d.txt \\\n",
        "    -O /tmp/glove.6B.100d.txt\n",
        "embeddings_index = {};\n",
        "with open('/tmp/glove.6B.100d.txt') as f:\n",
        "    for line in f:\n",
        "        values = line.split();\n",
        "        word = values[0];\n",
        "        coefs = np.asarray(values[1:], dtype='float32');\n",
        "        embeddings_index[word] = coefs;\n",
        "\n",
        "embeddings_matrix = np.zeros((vocab_size+1, embedding_dim));\n",
        "for word, i in word_index.items():\n",
        "    embedding_vector = embeddings_index.get(word);\n",
        "    if embedding_vector is not None:\n",
        "        embeddings_matrix[i] = embedding_vector;"
      ],
      "execution_count": null,
      "outputs": [
        {
          "output_type": "stream",
          "text": [
            "--2020-07-27 13:56:10--  https://storage.googleapis.com/laurencemoroney-blog.appspot.com/glove.6B.100d.txt\n",
            "Resolving storage.googleapis.com (storage.googleapis.com)... 173.194.217.128, 172.217.193.128, 172.217.204.128, ...\n",
            "Connecting to storage.googleapis.com (storage.googleapis.com)|173.194.217.128|:443... connected.\n",
            "HTTP request sent, awaiting response... 200 OK\n",
            "Length: 347116733 (331M) [text/plain]\n",
            "Saving to: ‘/tmp/glove.6B.100d.txt’\n",
            "\n",
            "/tmp/glove.6B.100d. 100%[===================>] 331.04M   128MB/s    in 2.6s    \n",
            "\n",
            "2020-07-27 13:56:13 (128 MB/s) - ‘/tmp/glove.6B.100d.txt’ saved [347116733/347116733]\n",
            "\n"
          ],
          "name": "stdout"
        }
      ]
    },
    {
      "cell_type": "code",
      "metadata": {
        "colab_type": "code",
        "id": "71NLk_lpFLNt",
        "colab": {
          "base_uri": "https://localhost:8080/",
          "height": 34
        },
        "outputId": "52f7614d-4aab-4aa4-f837-138ff03d3079"
      },
      "source": [
        "print(len(embeddings_matrix))\n",
        "# Expected Output\n",
        "# 138859"
      ],
      "execution_count": null,
      "outputs": [
        {
          "output_type": "stream",
          "text": [
            "138198\n"
          ],
          "name": "stdout"
        }
      ]
    },
    {
      "cell_type": "code",
      "metadata": {
        "colab_type": "code",
        "id": "iKKvbuEBOGFz",
        "colab": {
          "base_uri": "https://localhost:8080/",
          "height": 1000
        },
        "outputId": "e42c1a82-5ec2-477d-ad04-0a3d7929db2d"
      },
      "source": [
        "#Recall we are loading in a pretrained embedding matrix, so we have to set weights\n",
        "model = tf.keras.Sequential([\n",
        "    tf.keras.layers.Embedding(vocab_size+1, embedding_dim, input_length=max_length, weights=[embeddings_matrix], trainable=False),\n",
        "    # YOUR CODE HERE - experiment with combining different types, such as convolutions and LSTMs\n",
        "    tf.keras.layers.Dropout(0.2),\n",
        "    tf.keras.layers.Conv1D(64,5,activation='relu'),\n",
        "    tf.keras.layers.MaxPooling1D(pool_size=4),\n",
        "    tf.keras.layers.LSTM(64),\n",
        "    tf.keras.layers.Dense(units=1, activation='sigmoid')\n",
        "])\n",
        "model.compile(loss='binary_crossentropy', optimizer='adam',metrics=['accuracy'])\n",
        "model.summary()\n",
        "\n",
        "num_epochs = 50\n",
        "history = model.fit(training_sequences, training_labels, epochs=num_epochs, validation_data=(test_sequences, test_labels), verbose=2)\n",
        "\n",
        "print(\"Training Complete\")\n"
      ],
      "execution_count": null,
      "outputs": [
        {
          "output_type": "stream",
          "text": [
            "Model: \"sequential_3\"\n",
            "_________________________________________________________________\n",
            "Layer (type)                 Output Shape              Param #   \n",
            "=================================================================\n",
            "embedding_4 (Embedding)      (None, 16, 100)           13819800  \n",
            "_________________________________________________________________\n",
            "dropout_2 (Dropout)          (None, 16, 100)           0         \n",
            "_________________________________________________________________\n",
            "conv1d_3 (Conv1D)            (None, 12, 64)            32064     \n",
            "_________________________________________________________________\n",
            "max_pooling1d_3 (MaxPooling1 (None, 3, 64)             0         \n",
            "_________________________________________________________________\n",
            "lstm_3 (LSTM)                (None, 64)                33024     \n",
            "_________________________________________________________________\n",
            "dense_3 (Dense)              (None, 1)                 65        \n",
            "=================================================================\n",
            "Total params: 13,884,953\n",
            "Trainable params: 65,153\n",
            "Non-trainable params: 13,819,800\n",
            "_________________________________________________________________\n",
            "Epoch 1/50\n",
            "4500/4500 - 15s - loss: 0.5683 - accuracy: 0.6994 - val_loss: 0.5266 - val_accuracy: 0.7299\n",
            "Epoch 2/50\n",
            "4500/4500 - 15s - loss: 0.5274 - accuracy: 0.7320 - val_loss: 0.5178 - val_accuracy: 0.7356\n",
            "Epoch 3/50\n",
            "4500/4500 - 15s - loss: 0.5113 - accuracy: 0.7442 - val_loss: 0.5073 - val_accuracy: 0.7457\n",
            "Epoch 4/50\n",
            "4500/4500 - 15s - loss: 0.4997 - accuracy: 0.7521 - val_loss: 0.5091 - val_accuracy: 0.7477\n",
            "Epoch 5/50\n",
            "4500/4500 - 16s - loss: 0.4898 - accuracy: 0.7571 - val_loss: 0.5022 - val_accuracy: 0.7521\n",
            "Epoch 6/50\n",
            "4500/4500 - 14s - loss: 0.4827 - accuracy: 0.7631 - val_loss: 0.5021 - val_accuracy: 0.7485\n",
            "Epoch 7/50\n",
            "4500/4500 - 15s - loss: 0.4759 - accuracy: 0.7679 - val_loss: 0.5097 - val_accuracy: 0.7516\n",
            "Epoch 8/50\n",
            "4500/4500 - 14s - loss: 0.4727 - accuracy: 0.7691 - val_loss: 0.5067 - val_accuracy: 0.7533\n",
            "Epoch 9/50\n",
            "4500/4500 - 15s - loss: 0.4676 - accuracy: 0.7721 - val_loss: 0.5050 - val_accuracy: 0.7553\n",
            "Epoch 10/50\n",
            "4500/4500 - 15s - loss: 0.4643 - accuracy: 0.7740 - val_loss: 0.5042 - val_accuracy: 0.7519\n",
            "Epoch 11/50\n",
            "4500/4500 - 15s - loss: 0.4601 - accuracy: 0.7767 - val_loss: 0.5069 - val_accuracy: 0.7537\n",
            "Epoch 12/50\n",
            "4500/4500 - 15s - loss: 0.4589 - accuracy: 0.7777 - val_loss: 0.5154 - val_accuracy: 0.7490\n",
            "Epoch 13/50\n",
            "4500/4500 - 14s - loss: 0.4558 - accuracy: 0.7801 - val_loss: 0.5060 - val_accuracy: 0.7511\n",
            "Epoch 14/50\n",
            "4500/4500 - 15s - loss: 0.4524 - accuracy: 0.7820 - val_loss: 0.5096 - val_accuracy: 0.7487\n",
            "Epoch 15/50\n",
            "4500/4500 - 15s - loss: 0.4508 - accuracy: 0.7825 - val_loss: 0.5062 - val_accuracy: 0.7514\n",
            "Epoch 16/50\n",
            "4500/4500 - 15s - loss: 0.4487 - accuracy: 0.7837 - val_loss: 0.5123 - val_accuracy: 0.7516\n",
            "Epoch 17/50\n",
            "4500/4500 - 15s - loss: 0.4478 - accuracy: 0.7840 - val_loss: 0.5108 - val_accuracy: 0.7508\n",
            "Epoch 18/50\n",
            "4500/4500 - 15s - loss: 0.4467 - accuracy: 0.7866 - val_loss: 0.5145 - val_accuracy: 0.7471\n",
            "Epoch 19/50\n",
            "4500/4500 - 15s - loss: 0.4451 - accuracy: 0.7863 - val_loss: 0.5064 - val_accuracy: 0.7542\n",
            "Epoch 20/50\n",
            "4500/4500 - 15s - loss: 0.4417 - accuracy: 0.7875 - val_loss: 0.5137 - val_accuracy: 0.7521\n",
            "Epoch 21/50\n",
            "4500/4500 - 15s - loss: 0.4419 - accuracy: 0.7876 - val_loss: 0.5185 - val_accuracy: 0.7483\n",
            "Epoch 22/50\n",
            "4500/4500 - 15s - loss: 0.4420 - accuracy: 0.7882 - val_loss: 0.5128 - val_accuracy: 0.7501\n",
            "Epoch 23/50\n",
            "4500/4500 - 15s - loss: 0.4402 - accuracy: 0.7885 - val_loss: 0.5145 - val_accuracy: 0.7498\n",
            "Epoch 24/50\n",
            "4500/4500 - 15s - loss: 0.4389 - accuracy: 0.7891 - val_loss: 0.5192 - val_accuracy: 0.7499\n",
            "Epoch 25/50\n",
            "4500/4500 - 15s - loss: 0.4379 - accuracy: 0.7900 - val_loss: 0.5138 - val_accuracy: 0.7502\n",
            "Epoch 26/50\n",
            "4500/4500 - 15s - loss: 0.4378 - accuracy: 0.7906 - val_loss: 0.5188 - val_accuracy: 0.7489\n",
            "Epoch 27/50\n",
            "4500/4500 - 15s - loss: 0.4341 - accuracy: 0.7936 - val_loss: 0.5253 - val_accuracy: 0.7510\n",
            "Epoch 28/50\n",
            "4500/4500 - 14s - loss: 0.4361 - accuracy: 0.7913 - val_loss: 0.5228 - val_accuracy: 0.7519\n",
            "Epoch 29/50\n",
            "4500/4500 - 15s - loss: 0.4351 - accuracy: 0.7930 - val_loss: 0.5143 - val_accuracy: 0.7523\n",
            "Epoch 30/50\n",
            "4500/4500 - 14s - loss: 0.4341 - accuracy: 0.7928 - val_loss: 0.5162 - val_accuracy: 0.7492\n",
            "Epoch 31/50\n",
            "4500/4500 - 15s - loss: 0.4330 - accuracy: 0.7934 - val_loss: 0.5181 - val_accuracy: 0.7516\n",
            "Epoch 32/50\n",
            "4500/4500 - 15s - loss: 0.4335 - accuracy: 0.7930 - val_loss: 0.5187 - val_accuracy: 0.7477\n",
            "Epoch 33/50\n",
            "4500/4500 - 14s - loss: 0.4329 - accuracy: 0.7940 - val_loss: 0.5186 - val_accuracy: 0.7466\n",
            "Epoch 34/50\n",
            "4500/4500 - 15s - loss: 0.4327 - accuracy: 0.7944 - val_loss: 0.5225 - val_accuracy: 0.7498\n",
            "Epoch 35/50\n",
            "4500/4500 - 15s - loss: 0.4337 - accuracy: 0.7926 - val_loss: 0.5234 - val_accuracy: 0.7474\n",
            "Epoch 36/50\n",
            "4500/4500 - 15s - loss: 0.4314 - accuracy: 0.7937 - val_loss: 0.5218 - val_accuracy: 0.7484\n",
            "Epoch 37/50\n",
            "4500/4500 - 15s - loss: 0.4308 - accuracy: 0.7949 - val_loss: 0.5208 - val_accuracy: 0.7481\n",
            "Epoch 38/50\n",
            "4500/4500 - 14s - loss: 0.4307 - accuracy: 0.7936 - val_loss: 0.5295 - val_accuracy: 0.7477\n",
            "Epoch 39/50\n",
            "4500/4500 - 14s - loss: 0.4291 - accuracy: 0.7960 - val_loss: 0.5340 - val_accuracy: 0.7424\n",
            "Epoch 40/50\n",
            "4500/4500 - 14s - loss: 0.4307 - accuracy: 0.7943 - val_loss: 0.5265 - val_accuracy: 0.7468\n",
            "Epoch 41/50\n",
            "4500/4500 - 14s - loss: 0.4308 - accuracy: 0.7955 - val_loss: 0.5293 - val_accuracy: 0.7477\n",
            "Epoch 42/50\n",
            "4500/4500 - 15s - loss: 0.4295 - accuracy: 0.7962 - val_loss: 0.5252 - val_accuracy: 0.7459\n",
            "Epoch 43/50\n",
            "4500/4500 - 14s - loss: 0.4280 - accuracy: 0.7963 - val_loss: 0.5233 - val_accuracy: 0.7447\n",
            "Epoch 44/50\n",
            "4500/4500 - 14s - loss: 0.4306 - accuracy: 0.7945 - val_loss: 0.5278 - val_accuracy: 0.7477\n",
            "Epoch 45/50\n",
            "4500/4500 - 14s - loss: 0.4293 - accuracy: 0.7954 - val_loss: 0.5292 - val_accuracy: 0.7471\n",
            "Epoch 46/50\n",
            "4500/4500 - 15s - loss: 0.4280 - accuracy: 0.7965 - val_loss: 0.5238 - val_accuracy: 0.7448\n",
            "Epoch 47/50\n",
            "4500/4500 - 15s - loss: 0.4292 - accuracy: 0.7951 - val_loss: 0.5293 - val_accuracy: 0.7470\n",
            "Epoch 48/50\n",
            "4500/4500 - 15s - loss: 0.4279 - accuracy: 0.7956 - val_loss: 0.5212 - val_accuracy: 0.7448\n",
            "Epoch 49/50\n",
            "4500/4500 - 15s - loss: 0.4267 - accuracy: 0.7976 - val_loss: 0.5278 - val_accuracy: 0.7464\n",
            "Epoch 50/50\n",
            "4500/4500 - 15s - loss: 0.4287 - accuracy: 0.7961 - val_loss: 0.5261 - val_accuracy: 0.7427\n",
            "Training Complete\n"
          ],
          "name": "stdout"
        }
      ]
    },
    {
      "cell_type": "code",
      "metadata": {
        "colab_type": "code",
        "id": "qxju4ItJKO8F",
        "colab": {
          "base_uri": "https://localhost:8080/",
          "height": 607
        },
        "outputId": "c0da7e57-f76c-40ba-ff16-5cdf7e9610a7"
      },
      "source": [
        "import matplotlib.image  as mpimg\n",
        "import matplotlib.pyplot as plt\n",
        "\n",
        "#-----------------------------------------------------------\n",
        "# Retrieve a list of list results on training and test data\n",
        "# sets for each training epoch\n",
        "#-----------------------------------------------------------\n",
        "acc=history.history['accuracy']\n",
        "val_acc=history.history['val_accuracy']\n",
        "loss=history.history['loss']\n",
        "val_loss=history.history['val_loss']\n",
        "\n",
        "epochs=range(len(acc)) # Get number of epochs\n",
        "\n",
        "#------------------------------------------------\n",
        "# Plot training and validation accuracy per epoch\n",
        "#------------------------------------------------\n",
        "plt.plot(epochs, acc, 'r')\n",
        "plt.plot(epochs, val_acc, 'b')\n",
        "plt.title('Training and validation accuracy')\n",
        "plt.xlabel(\"Epochs\")\n",
        "plt.ylabel(\"Accuracy\")\n",
        "plt.legend([\"Accuracy\", \"Validation Accuracy\"])\n",
        "\n",
        "plt.figure()\n",
        "\n",
        "#------------------------------------------------\n",
        "# Plot training and validation loss per epoch\n",
        "#------------------------------------------------\n",
        "plt.plot(epochs, loss, 'r')\n",
        "plt.plot(epochs, val_loss, 'b')\n",
        "plt.title('Training and validation loss')\n",
        "plt.xlabel(\"Epochs\")\n",
        "plt.ylabel(\"Loss\")\n",
        "plt.legend([\"Loss\", \"Validation Loss\"])\n",
        "\n",
        "plt.figure()\n",
        "\n",
        "\n",
        "# Expected Output\n",
        "# A chart where the validation loss does not increase sharply!"
      ],
      "execution_count": null,
      "outputs": [
        {
          "output_type": "execute_result",
          "data": {
            "text/plain": [
              "<Figure size 432x288 with 0 Axes>"
            ]
          },
          "metadata": {
            "tags": []
          },
          "execution_count": 58
        },
        {
          "output_type": "display_data",
          "data": {
            "image/png": "[encoded data removed]",
            "text/plain": [
              "<Figure size 432x288 with 1 Axes>"
            ]
          },
          "metadata": {
            "tags": [],
            "needs_background": "light"
          }
        },
        {
          "output_type": "display_data",
          "data": {
            "image/png": "[encoded data removed]",
            "text/plain": [
              "<Figure size 432x288 with 1 Axes>"
            ]
          },
          "metadata": {
            "tags": [],
            "needs_background": "light"
          }
        },
        {
          "output_type": "display_data",
          "data": {
            "text/plain": [
              "<Figure size 432x288 with 0 Axes>"
            ]
          },
          "metadata": {
            "tags": []
          }
        }
      ]
    },
    {
      "cell_type": "code",
      "metadata": {
        "id": "zU-tMFXLk0aw",
        "colab_type": "code",
        "colab": {}
      },
      "source": [
        ""
      ],
      "execution_count": null,
      "outputs": []
    }
  ]
}